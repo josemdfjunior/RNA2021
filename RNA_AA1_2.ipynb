{
  "nbformat": 4,
  "nbformat_minor": 0,
  "metadata": {
    "anaconda-cloud": {},
    "kernelspec": {
      "display_name": "Python 3",
      "language": "python",
      "name": "python3"
    },
    "language_info": {
      "codemirror_mode": {
        "name": "ipython",
        "version": 3
      },
      "file_extension": ".py",
      "mimetype": "text/x-python",
      "name": "python",
      "nbconvert_exporter": "python",
      "pygments_lexer": "ipython3",
      "version": "3.8.8"
    },
    "colab": {
      "name": "RNA_AA1.2.ipynb",
      "provenance": [],
      "collapsed_sections": []
    }
  },
  "cells": [
    {
      "cell_type": "markdown",
      "metadata": {
        "run_control": {
          "marked": true
        },
        "id": "-oH0mC7QmWky"
      },
      "source": [
        "# Redes Neurais Artificiais – Atividade Avaliativa 1.2"
      ]
    },
    {
      "cell_type": "markdown",
      "metadata": {
        "run_control": {
          "marked": true
        },
        "id": "G9o1gcuJmWk8"
      },
      "source": [
        "## Análise Exploratória e Visualização de Atributos"
      ]
    },
    {
      "cell_type": "markdown",
      "metadata": {
        "id": "qklrMg-XmWlE"
      },
      "source": [
        "### 2 Detalhamento da Atividade\n",
        "\n",
        "A base de dados a ser utilizada encontra-se disponível em <https://covid19.manaus.am.gov.br/wp-content/uploads/Manaus.csv>."
      ]
    },
    {
      "cell_type": "code",
      "metadata": {
        "id": "MS89dATxtRCl",
        "colab": {
          "base_uri": "https://localhost:8080/"
        },
        "outputId": "987d025e-7d50-4386-9161-0475e043cf8b"
      },
      "source": [
        "import os\n",
        "from os.path import exists, join, expanduser\n",
        "\n",
        "os.chdir(expanduser(\"~\"))\n",
        "\n",
        "data_dir = \"data\"\n",
        "if not exists(data_dir):\n",
        "  ! mkdir data && cd data && wget https://covid19.manaus.am.gov.br/wp-content/uploads/Manaus.csv"
      ],
      "execution_count": 1,
      "outputs": [
        {
          "output_type": "stream",
          "name": "stdout",
          "text": [
            "--2021-10-18 14:04:44--  https://covid19.manaus.am.gov.br/wp-content/uploads/Manaus.csv\n",
            "Resolving covid19.manaus.am.gov.br (covid19.manaus.am.gov.br)... 200.213.236.3\n",
            "Connecting to covid19.manaus.am.gov.br (covid19.manaus.am.gov.br)|200.213.236.3|:443... connected.\n",
            "HTTP request sent, awaiting response... 200 OK\n",
            "Length: 41685138 (40M) [text/csv]\n",
            "Saving to: ‘Manaus.csv’\n",
            "\n",
            "Manaus.csv          100%[===================>]  39.75M  5.18MB/s    in 8.7s    \n",
            "\n",
            "2021-10-18 14:04:54 (4.55 MB/s) - ‘Manaus.csv’ saved [41685138/41685138]\n",
            "\n"
          ]
        }
      ]
    },
    {
      "cell_type": "code",
      "metadata": {
        "colab": {
          "base_uri": "https://localhost:8080/"
        },
        "id": "87w9UkqjtkPj",
        "outputId": "3f25f0cf-ecc9-46ec-f14b-be38ed4a9e57"
      },
      "source": [
        "! ls ~/data"
      ],
      "execution_count": 2,
      "outputs": [
        {
          "output_type": "stream",
          "name": "stdout",
          "text": [
            "Manaus.csv\n"
          ]
        }
      ]
    },
    {
      "cell_type": "markdown",
      "metadata": {
        "id": "BkOQ2AVpmWk-"
      },
      "source": [
        "* Importar principais bibliotecas"
      ]
    },
    {
      "cell_type": "code",
      "metadata": {
        "id": "_0WBEfjHmWk_",
        "colab": {
          "base_uri": "https://localhost:8080/"
        },
        "outputId": "f63f55c3-9197-4270-bbcf-23f4d4ed6ca4"
      },
      "source": [
        "! pip freeze | grep -E -i '^((matplotlib.*)|(numpy.*)|(pandas.*)|(seaborn.*))'"
      ],
      "execution_count": 3,
      "outputs": [
        {
          "output_type": "stream",
          "name": "stdout",
          "text": [
            "matplotlib==3.2.2\n",
            "matplotlib-inline==0.1.3\n",
            "matplotlib-venn==0.11.6\n",
            "numpy==1.19.5\n",
            "pandas==1.1.5\n",
            "pandas-datareader==0.9.0\n",
            "pandas-gbq==0.13.3\n",
            "pandas-profiling==1.4.1\n",
            "seaborn==0.11.2\n"
          ]
        }
      ]
    },
    {
      "cell_type": "code",
      "metadata": {
        "id": "IX3WbYRbmWlD"
      },
      "source": [
        "import numpy as np\n",
        "import pandas as pd"
      ],
      "execution_count": 4,
      "outputs": []
    },
    {
      "cell_type": "code",
      "metadata": {
        "id": "Vf2pyCm5mWlG",
        "colab": {
          "base_uri": "https://localhost:8080/"
        },
        "outputId": "c7b1c508-0665-46c3-a48a-3174bf65055f"
      },
      "source": [
        "data_path = [data_dir]\n",
        "filepath = os.sep.join(data_path + ['Manaus.csv'])\n",
        "print(filepath)"
      ],
      "execution_count": 5,
      "outputs": [
        {
          "output_type": "stream",
          "name": "stdout",
          "text": [
            "data/Manaus.csv\n"
          ]
        }
      ]
    },
    {
      "cell_type": "code",
      "metadata": {
        "scrolled": true,
        "id": "X6W03KTEmWlH",
        "colab": {
          "base_uri": "https://localhost:8080/"
        },
        "outputId": "889b4893-31f7-492b-b49f-d7f6a3c468b5"
      },
      "source": [
        "data_all = pd.read_csv(filepath, sep = ';', encoding = 'utf-8')\n",
        "len(data_all)"
      ],
      "execution_count": 6,
      "outputs": [
        {
          "output_type": "stream",
          "name": "stderr",
          "text": [
            "/usr/local/lib/python3.7/dist-packages/IPython/core/interactiveshell.py:2718: DtypeWarning: Columns (0,6,7,8,9,10,11,12,13,14,15,16,17,18,22,23,26,27,28,29,30,31) have mixed types.Specify dtype option on import or set low_memory=False.\n",
            "  interactivity=interactivity, compiler=compiler, result=result)\n"
          ]
        },
        {
          "output_type": "execute_result",
          "data": {
            "text/plain": [
              "243984"
            ]
          },
          "metadata": {},
          "execution_count": 6
        }
      ]
    },
    {
      "cell_type": "code",
      "metadata": {
        "id": "4IVzVL4ZmWlJ",
        "colab": {
          "base_uri": "https://localhost:8080/",
          "height": 562
        },
        "outputId": "ef817922-f19c-486a-b5a2-b2de8d5a1ae9"
      },
      "source": [
        "data = data_all\n",
        "data.head(10)"
      ],
      "execution_count": 7,
      "outputs": [
        {
          "output_type": "execute_result",
          "data": {
            "text/html": [
              "<div>\n",
              "<style scoped>\n",
              "    .dataframe tbody tr th:only-of-type {\n",
              "        vertical-align: middle;\n",
              "    }\n",
              "\n",
              "    .dataframe tbody tr th {\n",
              "        vertical-align: top;\n",
              "    }\n",
              "\n",
              "    .dataframe thead th {\n",
              "        text-align: right;\n",
              "    }\n",
              "</style>\n",
              "<table border=\"1\" class=\"dataframe\">\n",
              "  <thead>\n",
              "    <tr style=\"text-align: right;\">\n",
              "      <th></th>\n",
              "      <th>_dt_evolucao</th>\n",
              "      <th>_dt_notificacao</th>\n",
              "      <th>_dt_sintomas</th>\n",
              "      <th>_classificacao</th>\n",
              "      <th>_conclusao</th>\n",
              "      <th>_origem</th>\n",
              "      <th>_comorb_cardio</th>\n",
              "      <th>_comorb_cromossomica</th>\n",
              "      <th>_comorb_diabetes</th>\n",
              "      <th>_comorb_hemato</th>\n",
              "      <th>_comorb_hepatica</th>\n",
              "      <th>_comorb_imuno</th>\n",
              "      <th>_comorb_neurologica</th>\n",
              "      <th>_comorb_obessidade</th>\n",
              "      <th>_comorb_renal</th>\n",
              "      <th>_comorb_respiratoria</th>\n",
              "      <th>_criterio</th>\n",
              "      <th>_etnia</th>\n",
              "      <th>_evolução</th>\n",
              "      <th>_idade</th>\n",
              "      <th>_faixa etária</th>\n",
              "      <th>_gestante</th>\n",
              "      <th>_profiss_saude</th>\n",
              "      <th>_raca</th>\n",
              "      <th>_se_notificacao</th>\n",
              "      <th>_sexo</th>\n",
              "      <th>_sintoma_dispneia</th>\n",
              "      <th>_sintoma_febre</th>\n",
              "      <th>_sintoma_garganta</th>\n",
              "      <th>_sintoma_tosse</th>\n",
              "      <th>_sintoma_outros</th>\n",
              "      <th>_srag</th>\n",
              "      <th>_teste_anticorpo</th>\n",
              "      <th>_teste_antigeno</th>\n",
              "      <th>_teste_pcr</th>\n",
              "      <th>_bairro</th>\n",
              "      <th>_bairro_mapa</th>\n",
              "      <th>_distrito</th>\n",
              "      <th>_taxa</th>\n",
              "    </tr>\n",
              "  </thead>\n",
              "  <tbody>\n",
              "    <tr>\n",
              "      <th>0</th>\n",
              "      <td>25/01/2020 00:00</td>\n",
              "      <td>03/01/2020 00:00</td>\n",
              "      <td>01/01/2020 00:00</td>\n",
              "      <td>Descartado</td>\n",
              "      <td>Recuperado</td>\n",
              "      <td>SIVEP,</td>\n",
              "      <td>NaN</td>\n",
              "      <td>NaN</td>\n",
              "      <td>NaN</td>\n",
              "      <td>NaN</td>\n",
              "      <td>NaN</td>\n",
              "      <td>NaN</td>\n",
              "      <td>NaN</td>\n",
              "      <td>NaN</td>\n",
              "      <td>NaN</td>\n",
              "      <td>NaN</td>\n",
              "      <td>Laboratorial</td>\n",
              "      <td>NaN</td>\n",
              "      <td>Internado</td>\n",
              "      <td>4.0</td>\n",
              "      <td>1a - 4a</td>\n",
              "      <td>NaN</td>\n",
              "      <td>NaN</td>\n",
              "      <td>Parda</td>\n",
              "      <td>1.0</td>\n",
              "      <td>M</td>\n",
              "      <td>Sim</td>\n",
              "      <td>Sim</td>\n",
              "      <td>Sim</td>\n",
              "      <td>Sim</td>\n",
              "      <td>Sim</td>\n",
              "      <td>SRAG não especificado</td>\n",
              "      <td>NaN</td>\n",
              "      <td>NaN</td>\n",
              "      <td>NaN</td>\n",
              "      <td>TARUMA</td>\n",
              "      <td>TARUMÃ</td>\n",
              "      <td>OESTE</td>\n",
              "      <td>0,243042897</td>\n",
              "    </tr>\n",
              "    <tr>\n",
              "      <th>1</th>\n",
              "      <td>03/01/2020 00:00</td>\n",
              "      <td>03/01/2020 00:00</td>\n",
              "      <td>01/01/2020 00:00</td>\n",
              "      <td>Descartado</td>\n",
              "      <td>Óbito</td>\n",
              "      <td>SIVEP,</td>\n",
              "      <td>NaN</td>\n",
              "      <td>NaN</td>\n",
              "      <td>NaN</td>\n",
              "      <td>NaN</td>\n",
              "      <td>NaN</td>\n",
              "      <td>NaN</td>\n",
              "      <td>NaN</td>\n",
              "      <td>NaN</td>\n",
              "      <td>NaN</td>\n",
              "      <td>NaN</td>\n",
              "      <td>Laboratorial</td>\n",
              "      <td>NaN</td>\n",
              "      <td>Internado</td>\n",
              "      <td>26.0</td>\n",
              "      <td>20a - 29a</td>\n",
              "      <td>NaN</td>\n",
              "      <td>NaN</td>\n",
              "      <td>Parda</td>\n",
              "      <td>1.0</td>\n",
              "      <td>F</td>\n",
              "      <td>Sim</td>\n",
              "      <td>Sim</td>\n",
              "      <td>Sim</td>\n",
              "      <td>Sim</td>\n",
              "      <td>Sim</td>\n",
              "      <td>Influenza B</td>\n",
              "      <td>NaN</td>\n",
              "      <td>NaN</td>\n",
              "      <td>NaN</td>\n",
              "      <td>TARUMA-ACU</td>\n",
              "      <td>TARUMÃ-AÇÚ</td>\n",
              "      <td>OESTE</td>\n",
              "      <td>0,684931507</td>\n",
              "    </tr>\n",
              "    <tr>\n",
              "      <th>2</th>\n",
              "      <td>05/01/2020 00:00</td>\n",
              "      <td>03/01/2020 00:00</td>\n",
              "      <td>03/01/2020 00:00</td>\n",
              "      <td>Descartado</td>\n",
              "      <td>Óbito</td>\n",
              "      <td>SIVEP,</td>\n",
              "      <td>NaN</td>\n",
              "      <td>NaN</td>\n",
              "      <td>NaN</td>\n",
              "      <td>NaN</td>\n",
              "      <td>NaN</td>\n",
              "      <td>NaN</td>\n",
              "      <td>NaN</td>\n",
              "      <td>NaN</td>\n",
              "      <td>NaN</td>\n",
              "      <td>NaN</td>\n",
              "      <td>Laboratorial</td>\n",
              "      <td>NaN</td>\n",
              "      <td>Internado em UTI</td>\n",
              "      <td>27.0</td>\n",
              "      <td>20a - 29a</td>\n",
              "      <td>NaN</td>\n",
              "      <td>NaN</td>\n",
              "      <td>Parda</td>\n",
              "      <td>1.0</td>\n",
              "      <td>M</td>\n",
              "      <td>Sim</td>\n",
              "      <td>Sim</td>\n",
              "      <td>Sim</td>\n",
              "      <td>Sim</td>\n",
              "      <td>Sim</td>\n",
              "      <td>SRAG não especificado</td>\n",
              "      <td>NaN</td>\n",
              "      <td>NaN</td>\n",
              "      <td>NaN</td>\n",
              "      <td>JORGE TEIXEIRA</td>\n",
              "      <td>JORGE TEIXEIRA</td>\n",
              "      <td>LESTE</td>\n",
              "      <td>0,073137374</td>\n",
              "    </tr>\n",
              "    <tr>\n",
              "      <th>3</th>\n",
              "      <td>16/01/2020 00:00</td>\n",
              "      <td>08/01/2020 00:00</td>\n",
              "      <td>04/01/2020 00:00</td>\n",
              "      <td>Descartado</td>\n",
              "      <td>Óbito</td>\n",
              "      <td>SIVEP,</td>\n",
              "      <td>NaN</td>\n",
              "      <td>NaN</td>\n",
              "      <td>NaN</td>\n",
              "      <td>NaN</td>\n",
              "      <td>NaN</td>\n",
              "      <td>NaN</td>\n",
              "      <td>NaN</td>\n",
              "      <td>NaN</td>\n",
              "      <td>NaN</td>\n",
              "      <td>NaN</td>\n",
              "      <td>Laboratorial</td>\n",
              "      <td>NaN</td>\n",
              "      <td>Internado em UTI</td>\n",
              "      <td>94.0</td>\n",
              "      <td>80a ou +</td>\n",
              "      <td>NaN</td>\n",
              "      <td>NaN</td>\n",
              "      <td>Parda</td>\n",
              "      <td>2.0</td>\n",
              "      <td>M</td>\n",
              "      <td>Sim</td>\n",
              "      <td>Sim</td>\n",
              "      <td>Sim</td>\n",
              "      <td>Sim</td>\n",
              "      <td>Sim</td>\n",
              "      <td>SRAG não especificado</td>\n",
              "      <td>NaN</td>\n",
              "      <td>NaN</td>\n",
              "      <td>NaN</td>\n",
              "      <td>FLORES</td>\n",
              "      <td>FLORES</td>\n",
              "      <td>SUL</td>\n",
              "      <td>0,198306463</td>\n",
              "    </tr>\n",
              "    <tr>\n",
              "      <th>4</th>\n",
              "      <td>11/01/2020 00:00</td>\n",
              "      <td>08/01/2020 00:00</td>\n",
              "      <td>05/01/2020 00:00</td>\n",
              "      <td>Descartado</td>\n",
              "      <td>Recuperado</td>\n",
              "      <td>SIVEP,</td>\n",
              "      <td>NaN</td>\n",
              "      <td>NaN</td>\n",
              "      <td>NaN</td>\n",
              "      <td>NaN</td>\n",
              "      <td>NaN</td>\n",
              "      <td>NaN</td>\n",
              "      <td>NaN</td>\n",
              "      <td>NaN</td>\n",
              "      <td>NaN</td>\n",
              "      <td>NaN</td>\n",
              "      <td>Laboratorial</td>\n",
              "      <td>NaN</td>\n",
              "      <td>Internado</td>\n",
              "      <td>0.0</td>\n",
              "      <td>&lt; 1a</td>\n",
              "      <td>NaN</td>\n",
              "      <td>NaN</td>\n",
              "      <td>Parda</td>\n",
              "      <td>2.0</td>\n",
              "      <td>M</td>\n",
              "      <td>Sim</td>\n",
              "      <td>Sim</td>\n",
              "      <td>NaN</td>\n",
              "      <td>Sim</td>\n",
              "      <td>Sim</td>\n",
              "      <td>SRAG não especificado</td>\n",
              "      <td>NaN</td>\n",
              "      <td>NaN</td>\n",
              "      <td>NaN</td>\n",
              "      <td>CIDADE DE DEUS</td>\n",
              "      <td>CIDADE DE DEUS</td>\n",
              "      <td>NORTE</td>\n",
              "      <td>0,117699678</td>\n",
              "    </tr>\n",
              "    <tr>\n",
              "      <th>5</th>\n",
              "      <td>06/02/2020 00:00</td>\n",
              "      <td>09/01/2020 00:00</td>\n",
              "      <td>04/01/2020 00:00</td>\n",
              "      <td>Descartado</td>\n",
              "      <td>Recuperado</td>\n",
              "      <td>SIVEP,</td>\n",
              "      <td>NaN</td>\n",
              "      <td>NaN</td>\n",
              "      <td>NaN</td>\n",
              "      <td>NaN</td>\n",
              "      <td>NaN</td>\n",
              "      <td>NaN</td>\n",
              "      <td>NaN</td>\n",
              "      <td>NaN</td>\n",
              "      <td>NaN</td>\n",
              "      <td>NaN</td>\n",
              "      <td>Laboratorial</td>\n",
              "      <td>NaN</td>\n",
              "      <td>Internado em UTI</td>\n",
              "      <td>0.0</td>\n",
              "      <td>&lt; 1a</td>\n",
              "      <td>NaN</td>\n",
              "      <td>NaN</td>\n",
              "      <td>Parda</td>\n",
              "      <td>2.0</td>\n",
              "      <td>M</td>\n",
              "      <td>Sim</td>\n",
              "      <td>Sim</td>\n",
              "      <td>Sim</td>\n",
              "      <td>Sim</td>\n",
              "      <td>Sim</td>\n",
              "      <td>SRAG não especificado</td>\n",
              "      <td>NaN</td>\n",
              "      <td>NaN</td>\n",
              "      <td>NaN</td>\n",
              "      <td>COLONIA TERRA NOVA</td>\n",
              "      <td>COLÔNIA TERRA NOVA</td>\n",
              "      <td>NORTE</td>\n",
              "      <td>0,183150183</td>\n",
              "    </tr>\n",
              "    <tr>\n",
              "      <th>6</th>\n",
              "      <td>09/01/2020 00:00</td>\n",
              "      <td>07/01/2020 00:00</td>\n",
              "      <td>05/01/2020 00:00</td>\n",
              "      <td>Descartado</td>\n",
              "      <td>Recuperado</td>\n",
              "      <td>SIVEP,</td>\n",
              "      <td>NaN</td>\n",
              "      <td>NaN</td>\n",
              "      <td>NaN</td>\n",
              "      <td>NaN</td>\n",
              "      <td>NaN</td>\n",
              "      <td>NaN</td>\n",
              "      <td>NaN</td>\n",
              "      <td>NaN</td>\n",
              "      <td>NaN</td>\n",
              "      <td>NaN</td>\n",
              "      <td>Clínico</td>\n",
              "      <td>NaN</td>\n",
              "      <td>Internado</td>\n",
              "      <td>8.0</td>\n",
              "      <td>5a - 9a</td>\n",
              "      <td>NaN</td>\n",
              "      <td>NaN</td>\n",
              "      <td>Branca</td>\n",
              "      <td>2.0</td>\n",
              "      <td>M</td>\n",
              "      <td>Sim</td>\n",
              "      <td>Sim</td>\n",
              "      <td>NaN</td>\n",
              "      <td>Sim</td>\n",
              "      <td>Sim</td>\n",
              "      <td>SRAG não especificado</td>\n",
              "      <td>NaN</td>\n",
              "      <td>NaN</td>\n",
              "      <td>NaN</td>\n",
              "      <td>CIDADE DE DEUS</td>\n",
              "      <td>CIDADE DE DEUS</td>\n",
              "      <td>NORTE</td>\n",
              "      <td>0,117699678</td>\n",
              "    </tr>\n",
              "    <tr>\n",
              "      <th>7</th>\n",
              "      <td>09/01/2020 00:00</td>\n",
              "      <td>07/01/2020 00:00</td>\n",
              "      <td>05/01/2020 00:00</td>\n",
              "      <td>Descartado</td>\n",
              "      <td>Recuperado</td>\n",
              "      <td>SIVEP,</td>\n",
              "      <td>NaN</td>\n",
              "      <td>NaN</td>\n",
              "      <td>NaN</td>\n",
              "      <td>NaN</td>\n",
              "      <td>NaN</td>\n",
              "      <td>NaN</td>\n",
              "      <td>NaN</td>\n",
              "      <td>NaN</td>\n",
              "      <td>NaN</td>\n",
              "      <td>NaN</td>\n",
              "      <td>Clínico</td>\n",
              "      <td>NaN</td>\n",
              "      <td>Internado</td>\n",
              "      <td>2.0</td>\n",
              "      <td>1a - 4a</td>\n",
              "      <td>NaN</td>\n",
              "      <td>NaN</td>\n",
              "      <td>Branca</td>\n",
              "      <td>2.0</td>\n",
              "      <td>F</td>\n",
              "      <td>Sim</td>\n",
              "      <td>Sim</td>\n",
              "      <td>NaN</td>\n",
              "      <td>Sim</td>\n",
              "      <td>Sim</td>\n",
              "      <td>SRAG não especificado</td>\n",
              "      <td>NaN</td>\n",
              "      <td>NaN</td>\n",
              "      <td>NaN</td>\n",
              "      <td>ALEIXO</td>\n",
              "      <td>ALEIXO</td>\n",
              "      <td>SUL</td>\n",
              "      <td>0,444325958</td>\n",
              "    </tr>\n",
              "    <tr>\n",
              "      <th>8</th>\n",
              "      <td>09/01/2020 00:00</td>\n",
              "      <td>06/01/2020 00:00</td>\n",
              "      <td>06/01/2020 00:00</td>\n",
              "      <td>Descartado</td>\n",
              "      <td>Recuperado</td>\n",
              "      <td>SIVEP,</td>\n",
              "      <td>NaN</td>\n",
              "      <td>NaN</td>\n",
              "      <td>NaN</td>\n",
              "      <td>NaN</td>\n",
              "      <td>NaN</td>\n",
              "      <td>NaN</td>\n",
              "      <td>NaN</td>\n",
              "      <td>NaN</td>\n",
              "      <td>NaN</td>\n",
              "      <td>NaN</td>\n",
              "      <td>Laboratorial</td>\n",
              "      <td>NaN</td>\n",
              "      <td>Internado em UTI</td>\n",
              "      <td>28.0</td>\n",
              "      <td>20a - 29a</td>\n",
              "      <td>NaN</td>\n",
              "      <td>NaN</td>\n",
              "      <td>Branca</td>\n",
              "      <td>2.0</td>\n",
              "      <td>F</td>\n",
              "      <td>Sim</td>\n",
              "      <td>Sim</td>\n",
              "      <td>NaN</td>\n",
              "      <td>Sim</td>\n",
              "      <td>Sim</td>\n",
              "      <td>SRAG não especificado</td>\n",
              "      <td>NaN</td>\n",
              "      <td>NaN</td>\n",
              "      <td>NaN</td>\n",
              "      <td>CIDADE DE DEUS</td>\n",
              "      <td>CIDADE DE DEUS</td>\n",
              "      <td>NORTE</td>\n",
              "      <td>0,117699678</td>\n",
              "    </tr>\n",
              "    <tr>\n",
              "      <th>9</th>\n",
              "      <td>10/01/2020 00:00</td>\n",
              "      <td>09/01/2020 00:00</td>\n",
              "      <td>09/01/2020 00:00</td>\n",
              "      <td>Descartado</td>\n",
              "      <td>Óbito</td>\n",
              "      <td>SIVEP,</td>\n",
              "      <td>Sim</td>\n",
              "      <td>NaN</td>\n",
              "      <td>NaN</td>\n",
              "      <td>NaN</td>\n",
              "      <td>NaN</td>\n",
              "      <td>NaN</td>\n",
              "      <td>NaN</td>\n",
              "      <td>NaN</td>\n",
              "      <td>NaN</td>\n",
              "      <td>NaN</td>\n",
              "      <td>Laboratorial</td>\n",
              "      <td>NaN</td>\n",
              "      <td>Internado</td>\n",
              "      <td>80.0</td>\n",
              "      <td>80a ou +</td>\n",
              "      <td>NaN</td>\n",
              "      <td>NaN</td>\n",
              "      <td>Parda</td>\n",
              "      <td>2.0</td>\n",
              "      <td>M</td>\n",
              "      <td>Sim</td>\n",
              "      <td>Sim</td>\n",
              "      <td>NaN</td>\n",
              "      <td>Sim</td>\n",
              "      <td>Sim</td>\n",
              "      <td>SRAG não especificado</td>\n",
              "      <td>NaN</td>\n",
              "      <td>NaN</td>\n",
              "      <td>NaN</td>\n",
              "      <td>PETROPOLIS</td>\n",
              "      <td>PETRÓPOLIS</td>\n",
              "      <td>SUL</td>\n",
              "      <td>0,232948192</td>\n",
              "    </tr>\n",
              "  </tbody>\n",
              "</table>\n",
              "</div>"
            ],
            "text/plain": [
              "       _dt_evolucao   _dt_notificacao  ... _distrito        _taxa\n",
              "0  25/01/2020 00:00  03/01/2020 00:00  ...     OESTE  0,243042897\n",
              "1  03/01/2020 00:00  03/01/2020 00:00  ...     OESTE  0,684931507\n",
              "2  05/01/2020 00:00  03/01/2020 00:00  ...     LESTE  0,073137374\n",
              "3  16/01/2020 00:00  08/01/2020 00:00  ...       SUL  0,198306463\n",
              "4  11/01/2020 00:00  08/01/2020 00:00  ...     NORTE  0,117699678\n",
              "5  06/02/2020 00:00  09/01/2020 00:00  ...     NORTE  0,183150183\n",
              "6  09/01/2020 00:00  07/01/2020 00:00  ...     NORTE  0,117699678\n",
              "7  09/01/2020 00:00  07/01/2020 00:00  ...       SUL  0,444325958\n",
              "8  09/01/2020 00:00  06/01/2020 00:00  ...     NORTE  0,117699678\n",
              "9  10/01/2020 00:00  09/01/2020 00:00  ...       SUL  0,232948192\n",
              "\n",
              "[10 rows x 39 columns]"
            ]
          },
          "metadata": {},
          "execution_count": 7
        }
      ]
    },
    {
      "cell_type": "markdown",
      "metadata": {
        "run_control": {
          "marked": true
        },
        "id": "9fxlRPiqmWlL"
      },
      "source": [
        "# 2.1 Visão Geral dos Casos Confirmados"
      ]
    },
    {
      "cell_type": "markdown",
      "metadata": {
        "id": "6GU4dEowmWlM"
      },
      "source": [
        "Considerar apenas os casos confirmados:\n",
        "\n",
        "* Encontrar informação na coluna **_classificacao**:"
      ]
    },
    {
      "cell_type": "code",
      "metadata": {
        "id": "tfGrhX10mWlN"
      },
      "source": [
        "confirmados = data.loc[data['_classificacao'] == \"Confirmado\"]\n",
        "data = confirmados"
      ],
      "execution_count": 8,
      "outputs": []
    },
    {
      "cell_type": "markdown",
      "metadata": {
        "id": "QwsvWUEHmWlO"
      },
      "source": [
        "###### 1. Quantos atributos descrevem cada exemplo? Quais são eles?"
      ]
    },
    {
      "cell_type": "code",
      "metadata": {
        "id": "BRH1tpMNmWlP",
        "colab": {
          "base_uri": "https://localhost:8080/"
        },
        "outputId": "10e19f25-15e6-48c6-e4fc-bf9860c90c0f"
      },
      "source": [
        "# numero de colunas\n",
        "# len(data.columns)\n",
        "data.shape[1]"
      ],
      "execution_count": 9,
      "outputs": [
        {
          "output_type": "execute_result",
          "data": {
            "text/plain": [
              "39"
            ]
          },
          "metadata": {},
          "execution_count": 9
        }
      ]
    },
    {
      "cell_type": "code",
      "metadata": {
        "id": "DslnsHK6mWlR",
        "colab": {
          "base_uri": "https://localhost:8080/"
        },
        "outputId": "597a49e0-cac8-4c7b-86a9-660a008d69ab"
      },
      "source": [
        "data.columns.tolist()"
      ],
      "execution_count": 10,
      "outputs": [
        {
          "output_type": "execute_result",
          "data": {
            "text/plain": [
              "['_dt_evolucao',\n",
              " '_dt_notificacao',\n",
              " '_dt_sintomas',\n",
              " '_classificacao',\n",
              " '_conclusao',\n",
              " '_origem',\n",
              " '_comorb_cardio',\n",
              " '_comorb_cromossomica',\n",
              " '_comorb_diabetes',\n",
              " '_comorb_hemato',\n",
              " '_comorb_hepatica',\n",
              " '_comorb_imuno',\n",
              " '_comorb_neurologica',\n",
              " '_comorb_obessidade',\n",
              " '_comorb_renal',\n",
              " '_comorb_respiratoria',\n",
              " '_criterio',\n",
              " '_etnia',\n",
              " '_evolução',\n",
              " '_idade',\n",
              " '_faixa etária',\n",
              " '_gestante',\n",
              " '_profiss_saude',\n",
              " '_raca',\n",
              " '_se_notificacao',\n",
              " '_sexo',\n",
              " '_sintoma_dispneia',\n",
              " '_sintoma_febre',\n",
              " '_sintoma_garganta',\n",
              " '_sintoma_tosse',\n",
              " '_sintoma_outros',\n",
              " '_srag',\n",
              " '_teste_anticorpo',\n",
              " '_teste_antigeno',\n",
              " '_teste_pcr',\n",
              " '_bairro',\n",
              " '_bairro_mapa',\n",
              " '_distrito',\n",
              " '_taxa']"
            ]
          },
          "metadata": {},
          "execution_count": 10
        }
      ]
    },
    {
      "cell_type": "markdown",
      "metadata": {
        "id": "rB5IwoITmWlR"
      },
      "source": [
        "###### 2. Quantos casos confirmados há em Manaus, cumulativamente?"
      ]
    },
    {
      "cell_type": "code",
      "metadata": {
        "id": "MWDylJDFmWlS",
        "colab": {
          "base_uri": "https://localhost:8080/"
        },
        "outputId": "f5bf60dc-85f1-455e-fd43-6b0be4d6b3de"
      },
      "source": [
        "# numero de linhas\n",
        "# len(data)\n",
        "data.shape[0]"
      ],
      "execution_count": 11,
      "outputs": [
        {
          "output_type": "execute_result",
          "data": {
            "text/plain": [
              "80420"
            ]
          },
          "metadata": {},
          "execution_count": 11
        }
      ]
    },
    {
      "cell_type": "markdown",
      "metadata": {
        "id": "5MGCkR2amWlT"
      },
      "source": [
        "###### 3. A qual período de tempo a base de dados se refere, isto é, qual o registro mais antigo e qual o mais recente? Leve em conta a data de notificação."
      ]
    },
    {
      "cell_type": "code",
      "metadata": {
        "id": "jVqKV_sqmWlT",
        "colab": {
          "base_uri": "https://localhost:8080/"
        },
        "outputId": "a6caee6f-3fde-4224-c48b-ea0b13f38efc"
      },
      "source": [
        "periodo = pd.to_datetime(data['_dt_notificacao'], format='%d/%m/%Y %H:%M').agg(['min', 'max'])\n",
        "periodo"
      ],
      "execution_count": 12,
      "outputs": [
        {
          "output_type": "execute_result",
          "data": {
            "text/plain": [
              "min   2020-02-16\n",
              "max   2020-12-29\n",
              "Name: _dt_notificacao, dtype: datetime64[ns]"
            ]
          },
          "metadata": {},
          "execution_count": 12
        }
      ]
    },
    {
      "cell_type": "code",
      "metadata": {
        "id": "1u4wUzb3mWlU",
        "colab": {
          "base_uri": "https://localhost:8080/"
        },
        "outputId": "c4516434-b49c-421a-fccf-7f464acb16cd"
      },
      "source": [
        "print(f'Inínio: {periodo.iloc[0]}; Fim: {periodo.iloc[1]}')"
      ],
      "execution_count": 13,
      "outputs": [
        {
          "output_type": "stream",
          "name": "stdout",
          "text": [
            "Inínio: 2020-02-16 00:00:00; Fim: 2020-12-29 00:00:00\n"
          ]
        }
      ]
    },
    {
      "cell_type": "markdown",
      "metadata": {
        "run_control": {
          "marked": true
        },
        "id": "ROTViX10mWlV"
      },
      "source": [
        "Excluir todos os atributos relativos às comorbidades, sintomas, etnia, profissão, outras datas que não a de notificação, origem e outros\n",
        "que não estiverem envolvidos no contexto do trabalho solicitado."
      ]
    },
    {
      "cell_type": "code",
      "metadata": {
        "id": "hO-wdC2_mWlW",
        "colab": {
          "base_uri": "https://localhost:8080/"
        },
        "outputId": "3c451694-98fe-43f6-f458-1c46d41a25a7"
      },
      "source": [
        "data.columns"
      ],
      "execution_count": 14,
      "outputs": [
        {
          "output_type": "execute_result",
          "data": {
            "text/plain": [
              "Index(['_dt_evolucao', '_dt_notificacao', '_dt_sintomas', '_classificacao',\n",
              "       '_conclusao', '_origem', '_comorb_cardio', '_comorb_cromossomica',\n",
              "       '_comorb_diabetes', '_comorb_hemato', '_comorb_hepatica',\n",
              "       '_comorb_imuno', '_comorb_neurologica', '_comorb_obessidade',\n",
              "       '_comorb_renal', '_comorb_respiratoria', '_criterio', '_etnia',\n",
              "       '_evolução', '_idade', '_faixa etária', '_gestante', '_profiss_saude',\n",
              "       '_raca', '_se_notificacao', '_sexo', '_sintoma_dispneia',\n",
              "       '_sintoma_febre', '_sintoma_garganta', '_sintoma_tosse',\n",
              "       '_sintoma_outros', '_srag', '_teste_anticorpo', '_teste_antigeno',\n",
              "       '_teste_pcr', '_bairro', '_bairro_mapa', '_distrito', '_taxa'],\n",
              "      dtype='object')"
            ]
          },
          "metadata": {},
          "execution_count": 14
        }
      ]
    },
    {
      "cell_type": "code",
      "metadata": {
        "id": "DxT2rg6HmWlX"
      },
      "source": [
        "data = data.drop(['_dt_evolucao', '_dt_sintomas', '_origem', \\\n",
        "           '_comorb_cardio', '_comorb_cromossomica', '_comorb_diabetes', \\\n",
        "           '_comorb_hemato', '_comorb_hepatica', '_comorb_imuno', \\\n",
        "           '_comorb_neurologica', '_comorb_obessidade', '_comorb_renal', \\\n",
        "           '_comorb_respiratoria', '_criterio', '_etnia', '_evolução', '_faixa etária', \\\n",
        "           '_gestante', '_profiss_saude', '_raca', '_se_notificacao', '_sintoma_dispneia', \\\n",
        "           '_sintoma_febre', '_sintoma_garganta', '_sintoma_tosse', \\\n",
        "           '_sintoma_outros', '_srag', '_distrito'], \\\n",
        "          axis = 1)"
      ],
      "execution_count": 15,
      "outputs": []
    },
    {
      "cell_type": "markdown",
      "metadata": {
        "id": "KXh_wyPpmWlY"
      },
      "source": [
        "Exclua todas as linhas em que houver dados faltantes para os\n",
        "atributos remanescentes."
      ]
    },
    {
      "cell_type": "code",
      "metadata": {
        "id": "8fYIrAOtmWlZ"
      },
      "source": [
        "data.dropna(subset=['_dt_notificacao', '_classificacao', '_conclusao', \\\n",
        "                        '_idade', '_sexo', '_bairro', '_bairro_mapa'], inplace=True)"
      ],
      "execution_count": 16,
      "outputs": []
    },
    {
      "cell_type": "code",
      "metadata": {
        "id": "bM2QDRjdmWlZ",
        "colab": {
          "base_uri": "https://localhost:8080/"
        },
        "outputId": "1051122d-faaf-44db-b5b1-66d8769cb986"
      },
      "source": [
        "data.shape"
      ],
      "execution_count": 17,
      "outputs": [
        {
          "output_type": "execute_result",
          "data": {
            "text/plain": [
              "(41675, 11)"
            ]
          },
          "metadata": {},
          "execution_count": 17
        }
      ]
    },
    {
      "cell_type": "markdown",
      "metadata": {
        "id": "3M6Sp2uSmWla"
      },
      "source": [
        "Considerou-se conservar as colunas relacionadas aos testes (para contagem posterior)~~  nos casos onde pelo menos um dos testes tem seu valor inserido~~, evolução e taxa (para avaliação de inferência no item 2.3)"
      ]
    },
    {
      "cell_type": "code",
      "metadata": {
        "id": "qo4MLJjFmWla"
      },
      "source": [
        "#data = data[(data['_teste_anticorpo'].notna()) | (data['_teste_antigeno'].notna()) | (data['_teste_pcr'].notna())]"
      ],
      "execution_count": 18,
      "outputs": []
    },
    {
      "cell_type": "code",
      "metadata": {
        "id": "3PjK3kH6mWlb",
        "colab": {
          "base_uri": "https://localhost:8080/",
          "height": 203
        },
        "outputId": "36da473c-c726-4d95-d5b9-490274da7156"
      },
      "source": [
        "data.head()"
      ],
      "execution_count": 19,
      "outputs": [
        {
          "output_type": "execute_result",
          "data": {
            "text/html": [
              "<div>\n",
              "<style scoped>\n",
              "    .dataframe tbody tr th:only-of-type {\n",
              "        vertical-align: middle;\n",
              "    }\n",
              "\n",
              "    .dataframe tbody tr th {\n",
              "        vertical-align: top;\n",
              "    }\n",
              "\n",
              "    .dataframe thead th {\n",
              "        text-align: right;\n",
              "    }\n",
              "</style>\n",
              "<table border=\"1\" class=\"dataframe\">\n",
              "  <thead>\n",
              "    <tr style=\"text-align: right;\">\n",
              "      <th></th>\n",
              "      <th>_dt_notificacao</th>\n",
              "      <th>_classificacao</th>\n",
              "      <th>_conclusao</th>\n",
              "      <th>_idade</th>\n",
              "      <th>_sexo</th>\n",
              "      <th>_teste_anticorpo</th>\n",
              "      <th>_teste_antigeno</th>\n",
              "      <th>_teste_pcr</th>\n",
              "      <th>_bairro</th>\n",
              "      <th>_bairro_mapa</th>\n",
              "      <th>_taxa</th>\n",
              "    </tr>\n",
              "  </thead>\n",
              "  <tbody>\n",
              "    <tr>\n",
              "      <th>130</th>\n",
              "      <td>23/02/2020 00:00</td>\n",
              "      <td>Confirmado</td>\n",
              "      <td>Recuperado</td>\n",
              "      <td>12.0</td>\n",
              "      <td>F</td>\n",
              "      <td>NaN</td>\n",
              "      <td>NaN</td>\n",
              "      <td>1.0</td>\n",
              "      <td>MAUAZINHO</td>\n",
              "      <td>MAUAZINHO</td>\n",
              "      <td>0,35040998</td>\n",
              "    </tr>\n",
              "    <tr>\n",
              "      <th>144</th>\n",
              "      <td>28/02/2020 00:00</td>\n",
              "      <td>Confirmado</td>\n",
              "      <td>Recuperado</td>\n",
              "      <td>39.0</td>\n",
              "      <td>F</td>\n",
              "      <td>NaN</td>\n",
              "      <td>NaN</td>\n",
              "      <td>1.0</td>\n",
              "      <td>NOVO ALEIXO</td>\n",
              "      <td>NOVO ALEIXO</td>\n",
              "      <td>0,085452557</td>\n",
              "    </tr>\n",
              "    <tr>\n",
              "      <th>153</th>\n",
              "      <td>02/03/2020 00:00</td>\n",
              "      <td>Confirmado</td>\n",
              "      <td>Recuperado</td>\n",
              "      <td>2.0</td>\n",
              "      <td>F</td>\n",
              "      <td>1.0</td>\n",
              "      <td>NaN</td>\n",
              "      <td>NaN</td>\n",
              "      <td>PRACA 14 DE JANEIRO</td>\n",
              "      <td>PRAÇA 14 DE JANEIRO</td>\n",
              "      <td>0,861920359</td>\n",
              "    </tr>\n",
              "    <tr>\n",
              "      <th>158</th>\n",
              "      <td>02/03/2020 00:00</td>\n",
              "      <td>Confirmado</td>\n",
              "      <td>Recuperado</td>\n",
              "      <td>71.0</td>\n",
              "      <td>F</td>\n",
              "      <td>2.0</td>\n",
              "      <td>NaN</td>\n",
              "      <td>NaN</td>\n",
              "      <td>FLORES</td>\n",
              "      <td>FLORES</td>\n",
              "      <td>0,198306463</td>\n",
              "    </tr>\n",
              "    <tr>\n",
              "      <th>196</th>\n",
              "      <td>11/03/2020 00:00</td>\n",
              "      <td>Confirmado</td>\n",
              "      <td>Recuperado</td>\n",
              "      <td>46.0</td>\n",
              "      <td>F</td>\n",
              "      <td>NaN</td>\n",
              "      <td>NaN</td>\n",
              "      <td>2.0</td>\n",
              "      <td>CIDADE NOVA</td>\n",
              "      <td>CIDADE NOVA</td>\n",
              "      <td>0,068152389</td>\n",
              "    </tr>\n",
              "  </tbody>\n",
              "</table>\n",
              "</div>"
            ],
            "text/plain": [
              "      _dt_notificacao _classificacao  ...         _bairro_mapa        _taxa\n",
              "130  23/02/2020 00:00     Confirmado  ...            MAUAZINHO   0,35040998\n",
              "144  28/02/2020 00:00     Confirmado  ...          NOVO ALEIXO  0,085452557\n",
              "153  02/03/2020 00:00     Confirmado  ...  PRAÇA 14 DE JANEIRO  0,861920359\n",
              "158  02/03/2020 00:00     Confirmado  ...               FLORES  0,198306463\n",
              "196  11/03/2020 00:00     Confirmado  ...          CIDADE NOVA  0,068152389\n",
              "\n",
              "[5 rows x 11 columns]"
            ]
          },
          "metadata": {},
          "execution_count": 19
        }
      ]
    },
    {
      "cell_type": "code",
      "metadata": {
        "id": "qmDsB2NhmWlc",
        "colab": {
          "base_uri": "https://localhost:8080/"
        },
        "outputId": "542470e1-c9ff-4a98-dd88-c3f9f1165add"
      },
      "source": [
        "data.shape"
      ],
      "execution_count": 20,
      "outputs": [
        {
          "output_type": "execute_result",
          "data": {
            "text/plain": [
              "(41675, 11)"
            ]
          },
          "metadata": {},
          "execution_count": 20
        }
      ]
    },
    {
      "cell_type": "markdown",
      "metadata": {
        "id": "TvTIKpNKmWlc"
      },
      "source": [
        "###### 2. Qual a porcentagem de indivíduos recuperados em relação ao todo?"
      ]
    },
    {
      "cell_type": "code",
      "metadata": {
        "ExecuteTime": {
          "end_time": "2017-03-19T23:17:53.678316Z",
          "start_time": "2017-03-19T19:17:53.660202-04:00"
        },
        "run_control": {
          "marked": true
        },
        "scrolled": false,
        "id": "WYJfMmgemWld",
        "colab": {
          "base_uri": "https://localhost:8080/"
        },
        "outputId": "4c4bd3a0-20f9-4184-8f18-1d04b64c2343"
      },
      "source": [
        "recuperados = data.loc[data['_conclusao'] == \"Recuperado\"]\n",
        "print(f\"{len(recuperados)/len(data)*100} %\")"
      ],
      "execution_count": 21,
      "outputs": [
        {
          "output_type": "stream",
          "name": "stdout",
          "text": [
            "91.89202159568086 %\n"
          ]
        }
      ]
    },
    {
      "cell_type": "markdown",
      "metadata": {
        "id": "C4gFULOHmWld"
      },
      "source": [
        "###### 3. Os casos acometeram mais indivíduos do sexo masculino ou feminino?"
      ]
    },
    {
      "cell_type": "code",
      "metadata": {
        "id": "MoyWWbRZmWle",
        "colab": {
          "base_uri": "https://localhost:8080/"
        },
        "outputId": "9a73aabe-125d-405a-ea7c-f703f142f7c5"
      },
      "source": [
        "data['_sexo'].value_counts(ascending=False)\n",
        "#data.groupby('_sexo').size()"
      ],
      "execution_count": 22,
      "outputs": [
        {
          "output_type": "execute_result",
          "data": {
            "text/plain": [
              "F    22357\n",
              "M    19318\n",
              "Name: _sexo, dtype: int64"
            ]
          },
          "metadata": {},
          "execution_count": 22
        }
      ]
    },
    {
      "cell_type": "markdown",
      "metadata": {
        "id": "UAtjI8EMmWle"
      },
      "source": [
        "Após comparação entre as ocorrências constatou-se que o sexo feminino foi a mais afetado."
      ]
    },
    {
      "cell_type": "markdown",
      "metadata": {
        "id": "xs5-LxyImWle"
      },
      "source": [
        "###### 4. Qual a média e desvio padrão de idade dos indivíduos que contraíram COVID-19? Qual o indivíduo mais jovem e o mais idoso a contraírem tal enfermidade?"
      ]
    },
    {
      "cell_type": "code",
      "metadata": {
        "id": "1TdCNd-MmWlh",
        "colab": {
          "base_uri": "https://localhost:8080/"
        },
        "outputId": "d8e5228d-ed3d-4bd5-bbbc-b1e5f01898cb"
      },
      "source": [
        "# data['_idade'].mean()\n",
        "# data['_idade'].std()\n",
        "estatisticas = data['_idade'].agg(['mean', 'std'])\n",
        "estatisticas"
      ],
      "execution_count": 23,
      "outputs": [
        {
          "output_type": "execute_result",
          "data": {
            "text/plain": [
              "mean    43.476521\n",
              "std     17.376359\n",
              "Name: _idade, dtype: float64"
            ]
          },
          "metadata": {},
          "execution_count": 23
        }
      ]
    },
    {
      "cell_type": "code",
      "metadata": {
        "colab": {
          "base_uri": "https://localhost:8080/"
        },
        "id": "_8rUh6o8Elxj",
        "outputId": "02923da1-bd18-4a03-cb8f-0d9c28d243a6"
      },
      "source": [
        "print(f'Média: {estatisticas.iloc[0]}; Desvio padrão: {estatisticas.iloc[1]}')"
      ],
      "execution_count": 24,
      "outputs": [
        {
          "output_type": "stream",
          "name": "stdout",
          "text": [
            "Média: 43.47652069586083; Desvio padrão: 17.376358811650032\n"
          ]
        }
      ]
    },
    {
      "cell_type": "markdown",
      "metadata": {
        "id": "RHgPDsNbmWlh"
      },
      "source": [
        "O indivíduo mais idoso:"
      ]
    },
    {
      "cell_type": "code",
      "metadata": {
        "scrolled": true,
        "id": "1aRNvQOpmWli",
        "colab": {
          "base_uri": "https://localhost:8080/"
        },
        "outputId": "d86bb051-7ead-4151-be39-9f5c9a5ff37d"
      },
      "source": [
        "data.loc[data['_idade'].idxmax()]"
      ],
      "execution_count": 25,
      "outputs": [
        {
          "output_type": "execute_result",
          "data": {
            "text/plain": [
              "_dt_notificacao     27/09/2020 00:00\n",
              "_classificacao            Confirmado\n",
              "_conclusao                Recuperado\n",
              "_idade                           120\n",
              "_sexo                              F\n",
              "_teste_anticorpo                   1\n",
              "_teste_antigeno                  NaN\n",
              "_teste_pcr                       NaN\n",
              "_bairro                       CENTRO\n",
              "_bairro_mapa                  CENTRO\n",
              "_taxa                    0,284843479\n",
              "Name: 190278, dtype: object"
            ]
          },
          "metadata": {},
          "execution_count": 25
        }
      ]
    },
    {
      "cell_type": "markdown",
      "metadata": {
        "id": "dWjHAqQ3mWli"
      },
      "source": [
        "O indivíduo mais jovem:"
      ]
    },
    {
      "cell_type": "code",
      "metadata": {
        "scrolled": true,
        "id": "aG2SIm4UmWli",
        "colab": {
          "base_uri": "https://localhost:8080/"
        },
        "outputId": "fddd4537-eedf-488e-e15b-ef7865171299"
      },
      "source": [
        "data.loc[data['_idade'].idxmin()]"
      ],
      "execution_count": 26,
      "outputs": [
        {
          "output_type": "execute_result",
          "data": {
            "text/plain": [
              "_dt_notificacao     23/03/2020 00:00\n",
              "_classificacao            Confirmado\n",
              "_conclusao                     Óbito\n",
              "_idade                             0\n",
              "_sexo                              F\n",
              "_teste_anticorpo                 NaN\n",
              "_teste_antigeno                  NaN\n",
              "_teste_pcr                         1\n",
              "_bairro                LIRIO DO VALE\n",
              "_bairro_mapa           LÍRIO DO VALE\n",
              "_taxa                    0,383376783\n",
              "Name: 247, dtype: object"
            ]
          },
          "metadata": {},
          "execution_count": 26
        }
      ]
    },
    {
      "cell_type": "markdown",
      "metadata": {
        "id": "UvhVc1DOmWlj"
      },
      "source": [
        "######  5. Qual o bairro com maior incidência de casos?"
      ]
    },
    {
      "cell_type": "markdown",
      "metadata": {
        "id": "kXDeXhwUmWlj"
      },
      "source": [
        "Heurística na avaliação dos bairros."
      ]
    },
    {
      "cell_type": "markdown",
      "metadata": {
        "id": "whTcHSBkfvXO"
      },
      "source": [
        "Retirada de acentuação e outras variações substituídas por caracteres alfanuméricos."
      ]
    },
    {
      "cell_type": "code",
      "metadata": {
        "id": "il7L6u4tmWlk"
      },
      "source": [
        "from unicodedata import normalize\n",
        "\n",
        "data['_bairro_mapa'] = data['_bairro_mapa'].apply(lambda x: normalize('NFKD', x).encode('ASCII','ignore').decode('ASCII').lower())"
      ],
      "execution_count": 27,
      "outputs": []
    },
    {
      "cell_type": "code",
      "metadata": {
        "id": "jFOOEmkpmWlk"
      },
      "source": [
        "from unicodedata import normalize\n",
        "\n",
        "data['_bairro'] = data['_bairro'].apply(lambda x: normalize('NFKD', x).encode('ASCII','ignore').decode('ASCII').lower())"
      ],
      "execution_count": 28,
      "outputs": []
    },
    {
      "cell_type": "markdown",
      "metadata": {
        "id": "WlGBJJV6mWll"
      },
      "source": [
        "Análise para escolha entre as colunas *_bairro* e *_bairro_mapa*."
      ]
    },
    {
      "cell_type": "markdown",
      "metadata": {
        "id": "0tASuaLCAgRL"
      },
      "source": [
        "Verificação da similaridade nos 5 primeiros caracteres."
      ]
    },
    {
      "cell_type": "code",
      "metadata": {
        "id": "NJ7EsRjymWlm",
        "colab": {
          "base_uri": "https://localhost:8080/",
          "height": 374
        },
        "outputId": "b6c55668-6aa6-4258-d099-89592f4e58b9"
      },
      "source": [
        "condicao_5_ini_char = data['_bairro'].str.slice(0,5) == data['_bairro_mapa'].str.slice(0,5)\n",
        "data.loc[condicao_5_ini_char].head(10)"
      ],
      "execution_count": 29,
      "outputs": [
        {
          "output_type": "execute_result",
          "data": {
            "text/html": [
              "<div>\n",
              "<style scoped>\n",
              "    .dataframe tbody tr th:only-of-type {\n",
              "        vertical-align: middle;\n",
              "    }\n",
              "\n",
              "    .dataframe tbody tr th {\n",
              "        vertical-align: top;\n",
              "    }\n",
              "\n",
              "    .dataframe thead th {\n",
              "        text-align: right;\n",
              "    }\n",
              "</style>\n",
              "<table border=\"1\" class=\"dataframe\">\n",
              "  <thead>\n",
              "    <tr style=\"text-align: right;\">\n",
              "      <th></th>\n",
              "      <th>_dt_notificacao</th>\n",
              "      <th>_classificacao</th>\n",
              "      <th>_conclusao</th>\n",
              "      <th>_idade</th>\n",
              "      <th>_sexo</th>\n",
              "      <th>_teste_anticorpo</th>\n",
              "      <th>_teste_antigeno</th>\n",
              "      <th>_teste_pcr</th>\n",
              "      <th>_bairro</th>\n",
              "      <th>_bairro_mapa</th>\n",
              "      <th>_taxa</th>\n",
              "    </tr>\n",
              "  </thead>\n",
              "  <tbody>\n",
              "    <tr>\n",
              "      <th>130</th>\n",
              "      <td>23/02/2020 00:00</td>\n",
              "      <td>Confirmado</td>\n",
              "      <td>Recuperado</td>\n",
              "      <td>12.0</td>\n",
              "      <td>F</td>\n",
              "      <td>NaN</td>\n",
              "      <td>NaN</td>\n",
              "      <td>1.0</td>\n",
              "      <td>mauazinho</td>\n",
              "      <td>mauazinho</td>\n",
              "      <td>0,35040998</td>\n",
              "    </tr>\n",
              "    <tr>\n",
              "      <th>144</th>\n",
              "      <td>28/02/2020 00:00</td>\n",
              "      <td>Confirmado</td>\n",
              "      <td>Recuperado</td>\n",
              "      <td>39.0</td>\n",
              "      <td>F</td>\n",
              "      <td>NaN</td>\n",
              "      <td>NaN</td>\n",
              "      <td>1.0</td>\n",
              "      <td>novo aleixo</td>\n",
              "      <td>novo aleixo</td>\n",
              "      <td>0,085452557</td>\n",
              "    </tr>\n",
              "    <tr>\n",
              "      <th>153</th>\n",
              "      <td>02/03/2020 00:00</td>\n",
              "      <td>Confirmado</td>\n",
              "      <td>Recuperado</td>\n",
              "      <td>2.0</td>\n",
              "      <td>F</td>\n",
              "      <td>1.0</td>\n",
              "      <td>NaN</td>\n",
              "      <td>NaN</td>\n",
              "      <td>praca 14 de janeiro</td>\n",
              "      <td>praca 14 de janeiro</td>\n",
              "      <td>0,861920359</td>\n",
              "    </tr>\n",
              "    <tr>\n",
              "      <th>158</th>\n",
              "      <td>02/03/2020 00:00</td>\n",
              "      <td>Confirmado</td>\n",
              "      <td>Recuperado</td>\n",
              "      <td>71.0</td>\n",
              "      <td>F</td>\n",
              "      <td>2.0</td>\n",
              "      <td>NaN</td>\n",
              "      <td>NaN</td>\n",
              "      <td>flores</td>\n",
              "      <td>flores</td>\n",
              "      <td>0,198306463</td>\n",
              "    </tr>\n",
              "    <tr>\n",
              "      <th>196</th>\n",
              "      <td>11/03/2020 00:00</td>\n",
              "      <td>Confirmado</td>\n",
              "      <td>Recuperado</td>\n",
              "      <td>46.0</td>\n",
              "      <td>F</td>\n",
              "      <td>NaN</td>\n",
              "      <td>NaN</td>\n",
              "      <td>2.0</td>\n",
              "      <td>cidade nova</td>\n",
              "      <td>cidade nova</td>\n",
              "      <td>0,068152389</td>\n",
              "    </tr>\n",
              "    <tr>\n",
              "      <th>247</th>\n",
              "      <td>23/03/2020 00:00</td>\n",
              "      <td>Confirmado</td>\n",
              "      <td>Óbito</td>\n",
              "      <td>0.0</td>\n",
              "      <td>F</td>\n",
              "      <td>NaN</td>\n",
              "      <td>NaN</td>\n",
              "      <td>1.0</td>\n",
              "      <td>lirio do vale</td>\n",
              "      <td>lirio do vale</td>\n",
              "      <td>0,383376783</td>\n",
              "    </tr>\n",
              "    <tr>\n",
              "      <th>263</th>\n",
              "      <td>25/03/2020 00:00</td>\n",
              "      <td>Confirmado</td>\n",
              "      <td>Óbito</td>\n",
              "      <td>55.0</td>\n",
              "      <td>M</td>\n",
              "      <td>NaN</td>\n",
              "      <td>NaN</td>\n",
              "      <td>1.0</td>\n",
              "      <td>colonia terra nova</td>\n",
              "      <td>colonia terra nova</td>\n",
              "      <td>0,183150183</td>\n",
              "    </tr>\n",
              "    <tr>\n",
              "      <th>270</th>\n",
              "      <td>20/03/2020 00:00</td>\n",
              "      <td>Confirmado</td>\n",
              "      <td>Óbito</td>\n",
              "      <td>43.0</td>\n",
              "      <td>M</td>\n",
              "      <td>NaN</td>\n",
              "      <td>NaN</td>\n",
              "      <td>1.0</td>\n",
              "      <td>cidade nova</td>\n",
              "      <td>cidade nova</td>\n",
              "      <td>0,068152389</td>\n",
              "    </tr>\n",
              "    <tr>\n",
              "      <th>271</th>\n",
              "      <td>22/03/2020 00:00</td>\n",
              "      <td>Confirmado</td>\n",
              "      <td>Recuperado</td>\n",
              "      <td>39.0</td>\n",
              "      <td>F</td>\n",
              "      <td>NaN</td>\n",
              "      <td>NaN</td>\n",
              "      <td>1.0</td>\n",
              "      <td>nossa senhora das gracas</td>\n",
              "      <td>nossa senhora das gracas</td>\n",
              "      <td>0,58411215</td>\n",
              "    </tr>\n",
              "    <tr>\n",
              "      <th>273</th>\n",
              "      <td>24/03/2020 00:00</td>\n",
              "      <td>Confirmado</td>\n",
              "      <td>Recuperado</td>\n",
              "      <td>88.0</td>\n",
              "      <td>M</td>\n",
              "      <td>NaN</td>\n",
              "      <td>NaN</td>\n",
              "      <td>1.0</td>\n",
              "      <td>dom pedro i</td>\n",
              "      <td>dom pedro</td>\n",
              "      <td>0,483629153</td>\n",
              "    </tr>\n",
              "  </tbody>\n",
              "</table>\n",
              "</div>"
            ],
            "text/plain": [
              "      _dt_notificacao _classificacao  ...              _bairro_mapa        _taxa\n",
              "130  23/02/2020 00:00     Confirmado  ...                 mauazinho   0,35040998\n",
              "144  28/02/2020 00:00     Confirmado  ...               novo aleixo  0,085452557\n",
              "153  02/03/2020 00:00     Confirmado  ...       praca 14 de janeiro  0,861920359\n",
              "158  02/03/2020 00:00     Confirmado  ...                    flores  0,198306463\n",
              "196  11/03/2020 00:00     Confirmado  ...               cidade nova  0,068152389\n",
              "247  23/03/2020 00:00     Confirmado  ...             lirio do vale  0,383376783\n",
              "263  25/03/2020 00:00     Confirmado  ...        colonia terra nova  0,183150183\n",
              "270  20/03/2020 00:00     Confirmado  ...               cidade nova  0,068152389\n",
              "271  22/03/2020 00:00     Confirmado  ...  nossa senhora das gracas   0,58411215\n",
              "273  24/03/2020 00:00     Confirmado  ...                 dom pedro  0,483629153\n",
              "\n",
              "[10 rows x 11 columns]"
            ]
          },
          "metadata": {},
          "execution_count": 29
        }
      ]
    },
    {
      "cell_type": "markdown",
      "metadata": {
        "id": "OgLu11R0Cbai"
      },
      "source": [
        "Divergência nos nomes completos dado critério de similaridade (início coincidente, mas não o todo)."
      ]
    },
    {
      "cell_type": "code",
      "metadata": {
        "id": "o0IGK0skmWlm"
      },
      "source": [
        "bairros_analise = data.loc[condicao_5_ini_char & (data['_bairro'] != data['_bairro_mapa'])][['_bairro', '_bairro_mapa']]"
      ],
      "execution_count": 30,
      "outputs": []
    },
    {
      "cell_type": "code",
      "metadata": {
        "id": "B_NIa675mWln",
        "colab": {
          "base_uri": "https://localhost:8080/"
        },
        "outputId": "2209d005-29cf-481b-e91d-090f20c0d91e"
      },
      "source": [
        "bairros_analise.value_counts()\n",
        "# bairros_analise.drop_duplicates()"
      ],
      "execution_count": 31,
      "outputs": [
        {
          "output_type": "execute_result",
          "data": {
            "text/plain": [
              "_bairro              _bairro_mapa         \n",
              "taruma acu           taruma-acu               190\n",
              "parque 10            parque 10 de novembro    188\n",
              "dom pedro i          dom pedro                175\n",
              "parque dez           parque 10 de novembro    140\n",
              "distrito industrial  distrito industrial i    107\n",
              "                                             ... \n",
              "cidade nova iv       cidade nova                1\n",
              "parque  de nov       parque 10 de novembro      1\n",
              "parque 10 de novem   parque 10 de novembro      1\n",
              "educando             educandos                  1\n",
              "taruma campo sales   taruma                     1\n",
              "Length: 157, dtype: int64"
            ]
          },
          "metadata": {},
          "execution_count": 31
        }
      ]
    },
    {
      "cell_type": "markdown",
      "metadata": {
        "id": "MpfSM3nbmWlo"
      },
      "source": [
        "Verificou-se que a coluna *_bairro_mapa* apresenta maior coerência, sendo esta considerada a partir daqui, apesar das 5 primeiras letras serem suficientes para inferir uma boa similaridade entre as duas colunas."
      ]
    },
    {
      "cell_type": "markdown",
      "metadata": {
        "id": "XtZsCMqCmWlo"
      },
      "source": [
        "Avaliação de agrupamento pelos n primeiros caracteres."
      ]
    },
    {
      "cell_type": "code",
      "metadata": {
        "id": "uD75jEk3mWlp"
      },
      "source": [
        "gb_5_primeiros = data.groupby(data['_bairro_mapa'].str.slice(0,5))"
      ],
      "execution_count": 32,
      "outputs": []
    },
    {
      "cell_type": "markdown",
      "metadata": {
        "id": "50HVespOh7-h"
      },
      "source": [
        "Verificação das strings diferentes para um mesmo criterio de agrupamento."
      ]
    },
    {
      "cell_type": "code",
      "metadata": {
        "colab": {
          "base_uri": "https://localhost:8080/",
          "height": 418
        },
        "id": "df1dg-cnnAtI",
        "outputId": "90f691e0-a951-4c56-9fa2-aba40a03cc89"
      },
      "source": [
        "l = gb_5_primeiros._bairro_mapa.agg(['min', 'max', 'nunique'])\n",
        "l[l['nunique'] > 1]"
      ],
      "execution_count": 33,
      "outputs": [
        {
          "output_type": "execute_result",
          "data": {
            "text/html": [
              "<div>\n",
              "<style scoped>\n",
              "    .dataframe tbody tr th:only-of-type {\n",
              "        vertical-align: middle;\n",
              "    }\n",
              "\n",
              "    .dataframe tbody tr th {\n",
              "        vertical-align: top;\n",
              "    }\n",
              "\n",
              "    .dataframe thead th {\n",
              "        text-align: right;\n",
              "    }\n",
              "</style>\n",
              "<table border=\"1\" class=\"dataframe\">\n",
              "  <thead>\n",
              "    <tr style=\"text-align: right;\">\n",
              "      <th></th>\n",
              "      <th>min</th>\n",
              "      <th>max</th>\n",
              "      <th>nunique</th>\n",
              "    </tr>\n",
              "    <tr>\n",
              "      <th>_bairro_mapa</th>\n",
              "      <th></th>\n",
              "      <th></th>\n",
              "      <th></th>\n",
              "    </tr>\n",
              "  </thead>\n",
              "  <tbody>\n",
              "    <tr>\n",
              "      <th>cidad</th>\n",
              "      <td>cidade de deus</td>\n",
              "      <td>cidade nova</td>\n",
              "      <td>2</td>\n",
              "    </tr>\n",
              "    <tr>\n",
              "      <th>colon</th>\n",
              "      <td>colonia antonio aleixo</td>\n",
              "      <td>colonia terra nova</td>\n",
              "      <td>4</td>\n",
              "    </tr>\n",
              "    <tr>\n",
              "      <th>distr</th>\n",
              "      <td>distrito industrial i</td>\n",
              "      <td>distrito industrial ii</td>\n",
              "      <td>2</td>\n",
              "    </tr>\n",
              "    <tr>\n",
              "      <th>nossa</th>\n",
              "      <td>nossa senhora aparecida</td>\n",
              "      <td>nossa senhora das gracas</td>\n",
              "      <td>2</td>\n",
              "    </tr>\n",
              "    <tr>\n",
              "      <th>nova</th>\n",
              "      <td>nova cidade</td>\n",
              "      <td>nova esperanca</td>\n",
              "      <td>2</td>\n",
              "    </tr>\n",
              "    <tr>\n",
              "      <th>novo</th>\n",
              "      <td>novo aleixo</td>\n",
              "      <td>novo israel</td>\n",
              "      <td>2</td>\n",
              "    </tr>\n",
              "    <tr>\n",
              "      <th>santa</th>\n",
              "      <td>santa etelvina</td>\n",
              "      <td>santa luzia</td>\n",
              "      <td>2</td>\n",
              "    </tr>\n",
              "    <tr>\n",
              "      <th>santo</th>\n",
              "      <td>santo agostinho</td>\n",
              "      <td>santo antonio</td>\n",
              "      <td>2</td>\n",
              "    </tr>\n",
              "    <tr>\n",
              "      <th>sao j</th>\n",
              "      <td>sao jorge</td>\n",
              "      <td>sao jose operario</td>\n",
              "      <td>2</td>\n",
              "    </tr>\n",
              "    <tr>\n",
              "      <th>tarum</th>\n",
              "      <td>taruma</td>\n",
              "      <td>taruma-acu</td>\n",
              "      <td>2</td>\n",
              "    </tr>\n",
              "    <tr>\n",
              "      <th>vila</th>\n",
              "      <td>vila buriti</td>\n",
              "      <td>vila da prata</td>\n",
              "      <td>2</td>\n",
              "    </tr>\n",
              "  </tbody>\n",
              "</table>\n",
              "</div>"
            ],
            "text/plain": [
              "                                  min                       max  nunique\n",
              "_bairro_mapa                                                            \n",
              "cidad                  cidade de deus               cidade nova        2\n",
              "colon          colonia antonio aleixo        colonia terra nova        4\n",
              "distr           distrito industrial i    distrito industrial ii        2\n",
              "nossa         nossa senhora aparecida  nossa senhora das gracas        2\n",
              "nova                      nova cidade            nova esperanca        2\n",
              "novo                      novo aleixo               novo israel        2\n",
              "santa                  santa etelvina               santa luzia        2\n",
              "santo                 santo agostinho             santo antonio        2\n",
              "sao j                       sao jorge         sao jose operario        2\n",
              "tarum                          taruma                taruma-acu        2\n",
              "vila                      vila buriti             vila da prata        2"
            ]
          },
          "metadata": {},
          "execution_count": 33
        }
      ]
    },
    {
      "cell_type": "markdown",
      "metadata": {
        "id": "XFzaQVrxmWlq"
      },
      "source": [
        "Baixa similaridade para os primeiros 5 caracteres. Exemplo, este tipo de filtro consideraria o bairro Cidade Nova igual ao Cidade de Deus."
      ]
    },
    {
      "cell_type": "markdown",
      "metadata": {
        "id": "_VjVzusSmWlr"
      },
      "source": [
        "Tentativa de agrupamento pelos 15 primeiros caracteres do bairro."
      ]
    },
    {
      "cell_type": "code",
      "metadata": {
        "id": "EWF3DvWkmWls"
      },
      "source": [
        "gb_15_primeiros = data.groupby(data['_bairro_mapa'].str.slice(0,15))"
      ],
      "execution_count": 34,
      "outputs": []
    },
    {
      "cell_type": "code",
      "metadata": {
        "id": "M4GQVDrdmWls",
        "colab": {
          "base_uri": "https://localhost:8080/",
          "height": 110
        },
        "outputId": "7b0ed578-287d-48bd-e36b-0962823ad18e"
      },
      "source": [
        "l = gb_15_primeiros._bairro_mapa.agg(['min', 'max', 'nunique'])\n",
        "l[l['nunique'] > 1]"
      ],
      "execution_count": 35,
      "outputs": [
        {
          "output_type": "execute_result",
          "data": {
            "text/html": [
              "<div>\n",
              "<style scoped>\n",
              "    .dataframe tbody tr th:only-of-type {\n",
              "        vertical-align: middle;\n",
              "    }\n",
              "\n",
              "    .dataframe tbody tr th {\n",
              "        vertical-align: top;\n",
              "    }\n",
              "\n",
              "    .dataframe thead th {\n",
              "        text-align: right;\n",
              "    }\n",
              "</style>\n",
              "<table border=\"1\" class=\"dataframe\">\n",
              "  <thead>\n",
              "    <tr style=\"text-align: right;\">\n",
              "      <th></th>\n",
              "      <th>min</th>\n",
              "      <th>max</th>\n",
              "      <th>nunique</th>\n",
              "    </tr>\n",
              "    <tr>\n",
              "      <th>_bairro_mapa</th>\n",
              "      <th></th>\n",
              "      <th></th>\n",
              "      <th></th>\n",
              "    </tr>\n",
              "  </thead>\n",
              "  <tbody>\n",
              "    <tr>\n",
              "      <th>distrito indust</th>\n",
              "      <td>distrito industrial i</td>\n",
              "      <td>distrito industrial ii</td>\n",
              "      <td>2</td>\n",
              "    </tr>\n",
              "  </tbody>\n",
              "</table>\n",
              "</div>"
            ],
            "text/plain": [
              "                                   min                     max  nunique\n",
              "_bairro_mapa                                                           \n",
              "distrito indust  distrito industrial i  distrito industrial ii        2"
            ]
          },
          "metadata": {},
          "execution_count": 35
        }
      ]
    },
    {
      "cell_type": "markdown",
      "metadata": {
        "id": "04rl-x5OqMjS"
      },
      "source": [
        "Tem-se que a partir de 16 caracteres o agrupamento se organizará em itens distintos."
      ]
    },
    {
      "cell_type": "markdown",
      "metadata": {
        "id": "CIohGvi4mWls"
      },
      "source": [
        "Bairro com maior incidência de casos."
      ]
    },
    {
      "cell_type": "code",
      "metadata": {
        "id": "g_kCEVaLmWlt",
        "colab": {
          "base_uri": "https://localhost:8080/"
        },
        "outputId": "6a969c57-bce0-488d-935e-d121bbed4123"
      },
      "source": [
        "print(f\"Maior inidência: {data['_bairro_mapa'].mode().iloc[0]}\")\n",
        "print(f\"Frequência: {data['_bairro_mapa'].value_counts().iloc[0]}\")"
      ],
      "execution_count": 36,
      "outputs": [
        {
          "output_type": "stream",
          "name": "stdout",
          "text": [
            "Maior inidência: sao jose operario\n",
            "Frequência: 2351\n"
          ]
        }
      ]
    },
    {
      "cell_type": "markdown",
      "metadata": {
        "id": "Xy1dZJqdmWlt"
      },
      "source": [
        "Ou por contagem em agrupamento."
      ]
    },
    {
      "cell_type": "markdown",
      "metadata": {
        "id": "ypXc0t56rk4o"
      },
      "source": [
        "Agrupamento pelos 5 primeiros caracteres."
      ]
    },
    {
      "cell_type": "code",
      "metadata": {
        "colab": {
          "base_uri": "https://localhost:8080/"
        },
        "id": "q1Bdj-Llrwxg",
        "outputId": "d7f851fc-d811-4eec-ba91-3871b39b8d1d"
      },
      "source": [
        "gb_5_primeiros.size().sort_values(axis=0, ascending=False).head(1)"
      ],
      "execution_count": 37,
      "outputs": [
        {
          "output_type": "execute_result",
          "data": {
            "text/plain": [
              "_bairro_mapa\n",
              "sao j    3209\n",
              "dtype: int64"
            ]
          },
          "metadata": {},
          "execution_count": 37
        }
      ]
    },
    {
      "cell_type": "markdown",
      "metadata": {
        "id": "VuaEghdWryKU"
      },
      "source": [
        "Agrupamento pelos 16 primeiros caracteres."
      ]
    },
    {
      "cell_type": "code",
      "metadata": {
        "id": "954phPNdmWlv"
      },
      "source": [
        "groupby_bairros_16 = data.groupby(data['_bairro_mapa'].str.slice(0,16))"
      ],
      "execution_count": 38,
      "outputs": []
    },
    {
      "cell_type": "code",
      "metadata": {
        "id": "P0shtBfWmWlw",
        "colab": {
          "base_uri": "https://localhost:8080/"
        },
        "outputId": "fea873da-c54c-4d3b-8da3-f04debea5622"
      },
      "source": [
        "groupby_bairros_16.size().sort_values(axis=0, ascending=False).head(1)"
      ],
      "execution_count": 39,
      "outputs": [
        {
          "output_type": "execute_result",
          "data": {
            "text/plain": [
              "_bairro_mapa\n",
              "sao jose operari    2351\n",
              "dtype: int64"
            ]
          },
          "metadata": {},
          "execution_count": 39
        }
      ]
    },
    {
      "cell_type": "markdown",
      "metadata": {
        "id": "O8mzfa3BmWlw"
      },
      "source": [
        "O agrupamento pelos 16 primeiros caracteres fornece um valor de contagem de maior incidência mais aproximado da moda."
      ]
    },
    {
      "cell_type": "markdown",
      "metadata": {
        "run_control": {
          "marked": true
        },
        "id": "nGBdDXurmWlx"
      },
      "source": [
        "###### 6. Quais os três bairros com maior incidência de casos recuperados?"
      ]
    },
    {
      "cell_type": "code",
      "metadata": {
        "id": "1yd4hyXpmWlx",
        "colab": {
          "base_uri": "https://localhost:8080/",
          "height": 374
        },
        "outputId": "f5872213-0aa0-4fee-e3bf-b668412e0f7a"
      },
      "source": [
        "recuperados = data.loc[data['_conclusao'] == \"Recuperado\"]\n",
        "recuperados.head(10)"
      ],
      "execution_count": 40,
      "outputs": [
        {
          "output_type": "execute_result",
          "data": {
            "text/html": [
              "<div>\n",
              "<style scoped>\n",
              "    .dataframe tbody tr th:only-of-type {\n",
              "        vertical-align: middle;\n",
              "    }\n",
              "\n",
              "    .dataframe tbody tr th {\n",
              "        vertical-align: top;\n",
              "    }\n",
              "\n",
              "    .dataframe thead th {\n",
              "        text-align: right;\n",
              "    }\n",
              "</style>\n",
              "<table border=\"1\" class=\"dataframe\">\n",
              "  <thead>\n",
              "    <tr style=\"text-align: right;\">\n",
              "      <th></th>\n",
              "      <th>_dt_notificacao</th>\n",
              "      <th>_classificacao</th>\n",
              "      <th>_conclusao</th>\n",
              "      <th>_idade</th>\n",
              "      <th>_sexo</th>\n",
              "      <th>_teste_anticorpo</th>\n",
              "      <th>_teste_antigeno</th>\n",
              "      <th>_teste_pcr</th>\n",
              "      <th>_bairro</th>\n",
              "      <th>_bairro_mapa</th>\n",
              "      <th>_taxa</th>\n",
              "    </tr>\n",
              "  </thead>\n",
              "  <tbody>\n",
              "    <tr>\n",
              "      <th>130</th>\n",
              "      <td>23/02/2020 00:00</td>\n",
              "      <td>Confirmado</td>\n",
              "      <td>Recuperado</td>\n",
              "      <td>12.0</td>\n",
              "      <td>F</td>\n",
              "      <td>NaN</td>\n",
              "      <td>NaN</td>\n",
              "      <td>1.0</td>\n",
              "      <td>mauazinho</td>\n",
              "      <td>mauazinho</td>\n",
              "      <td>0,35040998</td>\n",
              "    </tr>\n",
              "    <tr>\n",
              "      <th>144</th>\n",
              "      <td>28/02/2020 00:00</td>\n",
              "      <td>Confirmado</td>\n",
              "      <td>Recuperado</td>\n",
              "      <td>39.0</td>\n",
              "      <td>F</td>\n",
              "      <td>NaN</td>\n",
              "      <td>NaN</td>\n",
              "      <td>1.0</td>\n",
              "      <td>novo aleixo</td>\n",
              "      <td>novo aleixo</td>\n",
              "      <td>0,085452557</td>\n",
              "    </tr>\n",
              "    <tr>\n",
              "      <th>153</th>\n",
              "      <td>02/03/2020 00:00</td>\n",
              "      <td>Confirmado</td>\n",
              "      <td>Recuperado</td>\n",
              "      <td>2.0</td>\n",
              "      <td>F</td>\n",
              "      <td>1.0</td>\n",
              "      <td>NaN</td>\n",
              "      <td>NaN</td>\n",
              "      <td>praca 14 de janeiro</td>\n",
              "      <td>praca 14 de janeiro</td>\n",
              "      <td>0,861920359</td>\n",
              "    </tr>\n",
              "    <tr>\n",
              "      <th>158</th>\n",
              "      <td>02/03/2020 00:00</td>\n",
              "      <td>Confirmado</td>\n",
              "      <td>Recuperado</td>\n",
              "      <td>71.0</td>\n",
              "      <td>F</td>\n",
              "      <td>2.0</td>\n",
              "      <td>NaN</td>\n",
              "      <td>NaN</td>\n",
              "      <td>flores</td>\n",
              "      <td>flores</td>\n",
              "      <td>0,198306463</td>\n",
              "    </tr>\n",
              "    <tr>\n",
              "      <th>196</th>\n",
              "      <td>11/03/2020 00:00</td>\n",
              "      <td>Confirmado</td>\n",
              "      <td>Recuperado</td>\n",
              "      <td>46.0</td>\n",
              "      <td>F</td>\n",
              "      <td>NaN</td>\n",
              "      <td>NaN</td>\n",
              "      <td>2.0</td>\n",
              "      <td>cidade nova</td>\n",
              "      <td>cidade nova</td>\n",
              "      <td>0,068152389</td>\n",
              "    </tr>\n",
              "    <tr>\n",
              "      <th>271</th>\n",
              "      <td>22/03/2020 00:00</td>\n",
              "      <td>Confirmado</td>\n",
              "      <td>Recuperado</td>\n",
              "      <td>39.0</td>\n",
              "      <td>F</td>\n",
              "      <td>NaN</td>\n",
              "      <td>NaN</td>\n",
              "      <td>1.0</td>\n",
              "      <td>nossa senhora das gracas</td>\n",
              "      <td>nossa senhora das gracas</td>\n",
              "      <td>0,58411215</td>\n",
              "    </tr>\n",
              "    <tr>\n",
              "      <th>273</th>\n",
              "      <td>24/03/2020 00:00</td>\n",
              "      <td>Confirmado</td>\n",
              "      <td>Recuperado</td>\n",
              "      <td>88.0</td>\n",
              "      <td>M</td>\n",
              "      <td>NaN</td>\n",
              "      <td>NaN</td>\n",
              "      <td>1.0</td>\n",
              "      <td>dom pedro i</td>\n",
              "      <td>dom pedro</td>\n",
              "      <td>0,483629153</td>\n",
              "    </tr>\n",
              "    <tr>\n",
              "      <th>274</th>\n",
              "      <td>26/03/2020 00:00</td>\n",
              "      <td>Confirmado</td>\n",
              "      <td>Recuperado</td>\n",
              "      <td>37.0</td>\n",
              "      <td>F</td>\n",
              "      <td>NaN</td>\n",
              "      <td>NaN</td>\n",
              "      <td>1.0</td>\n",
              "      <td>lago azul</td>\n",
              "      <td>lago azul</td>\n",
              "      <td>0,178428049</td>\n",
              "    </tr>\n",
              "    <tr>\n",
              "      <th>276</th>\n",
              "      <td>22/03/2020 00:00</td>\n",
              "      <td>Confirmado</td>\n",
              "      <td>Recuperado</td>\n",
              "      <td>31.0</td>\n",
              "      <td>M</td>\n",
              "      <td>NaN</td>\n",
              "      <td>NaN</td>\n",
              "      <td>NaN</td>\n",
              "      <td>planalto</td>\n",
              "      <td>planalto</td>\n",
              "      <td>0,507022258</td>\n",
              "    </tr>\n",
              "    <tr>\n",
              "      <th>279</th>\n",
              "      <td>16/03/2020 00:00</td>\n",
              "      <td>Confirmado</td>\n",
              "      <td>Recuperado</td>\n",
              "      <td>42.0</td>\n",
              "      <td>M</td>\n",
              "      <td>NaN</td>\n",
              "      <td>NaN</td>\n",
              "      <td>2.0</td>\n",
              "      <td>taruma</td>\n",
              "      <td>taruma</td>\n",
              "      <td>0,243042897</td>\n",
              "    </tr>\n",
              "  </tbody>\n",
              "</table>\n",
              "</div>"
            ],
            "text/plain": [
              "      _dt_notificacao _classificacao  ...              _bairro_mapa        _taxa\n",
              "130  23/02/2020 00:00     Confirmado  ...                 mauazinho   0,35040998\n",
              "144  28/02/2020 00:00     Confirmado  ...               novo aleixo  0,085452557\n",
              "153  02/03/2020 00:00     Confirmado  ...       praca 14 de janeiro  0,861920359\n",
              "158  02/03/2020 00:00     Confirmado  ...                    flores  0,198306463\n",
              "196  11/03/2020 00:00     Confirmado  ...               cidade nova  0,068152389\n",
              "271  22/03/2020 00:00     Confirmado  ...  nossa senhora das gracas   0,58411215\n",
              "273  24/03/2020 00:00     Confirmado  ...                 dom pedro  0,483629153\n",
              "274  26/03/2020 00:00     Confirmado  ...                 lago azul  0,178428049\n",
              "276  22/03/2020 00:00     Confirmado  ...                  planalto  0,507022258\n",
              "279  16/03/2020 00:00     Confirmado  ...                    taruma  0,243042897\n",
              "\n",
              "[10 rows x 11 columns]"
            ]
          },
          "metadata": {},
          "execution_count": 40
        }
      ]
    },
    {
      "cell_type": "code",
      "metadata": {
        "ExecuteTime": {
          "end_time": "2017-03-19T23:20:16.483215Z",
          "start_time": "2017-03-19T19:20:16.472865-04:00"
        },
        "run_control": {
          "marked": true
        },
        "id": "IC3RYd8CmWlx",
        "colab": {
          "base_uri": "https://localhost:8080/"
        },
        "outputId": "3047e82d-7e88-4659-f459-c30c2864b957"
      },
      "source": [
        "group_sizes = (recuperados.groupby(data['_bairro_mapa'].str.slice(0,16)).size())\n",
        "print(group_sizes.sort_values(axis=0, ascending=False).head(3))"
      ],
      "execution_count": 41,
      "outputs": [
        {
          "output_type": "stream",
          "name": "stdout",
          "text": [
            "_bairro_mapa\n",
            "sao jose operari    2234\n",
            "cidade nova         2079\n",
            "alvorada            1872\n",
            "dtype: int64\n"
          ]
        }
      ]
    },
    {
      "cell_type": "code",
      "metadata": {
        "colab": {
          "base_uri": "https://localhost:8080/"
        },
        "id": "QQGGYShYxFkQ",
        "outputId": "166187d9-9961-4393-a12e-9d5f493aef66"
      },
      "source": [
        "recuperados.groupby('_bairro_mapa').size().sort_values(axis=0, ascending=False).head(3)"
      ],
      "execution_count": 42,
      "outputs": [
        {
          "output_type": "execute_result",
          "data": {
            "text/plain": [
              "_bairro_mapa\n",
              "sao jose operario    2234\n",
              "cidade nova          2079\n",
              "alvorada             1872\n",
              "dtype: int64"
            ]
          },
          "metadata": {},
          "execution_count": 42
        }
      ]
    },
    {
      "cell_type": "markdown",
      "metadata": {
        "ExecuteTime": {
          "end_time": "2017-03-19T23:20:16.483215Z",
          "start_time": "2017-03-19T19:20:16.472865-04:00"
        },
        "run_control": {
          "marked": true
        },
        "id": "5gSGAVDFmWly"
      },
      "source": [
        "###### 7. Quais os tipos de testes efetuados, segundo os dados? Indique os dados de maneira quantitativa e percentual."
      ]
    },
    {
      "cell_type": "code",
      "metadata": {
        "id": "ShdL8vhzmWly",
        "colab": {
          "base_uri": "https://localhost:8080/"
        },
        "outputId": "de8d820e-121c-4831-afc8-238230591b24"
      },
      "source": [
        "testes_colunas = list(filter(lambda x: x.startswith('_teste_'), data.columns.to_list()))\n",
        "testes_colunas"
      ],
      "execution_count": 43,
      "outputs": [
        {
          "output_type": "execute_result",
          "data": {
            "text/plain": [
              "['_teste_anticorpo', '_teste_antigeno', '_teste_pcr']"
            ]
          },
          "metadata": {},
          "execution_count": 43
        }
      ]
    },
    {
      "cell_type": "markdown",
      "metadata": {
        "id": "1xispH3TmWlz"
      },
      "source": [
        "Quantitativo de testes realizados por tipo de testagem:"
      ]
    },
    {
      "cell_type": "code",
      "metadata": {
        "id": "DneJd2SzmWlz",
        "colab": {
          "base_uri": "https://localhost:8080/"
        },
        "outputId": "945f95f1-99bb-4293-92d8-024faf2e3634"
      },
      "source": [
        "count_testes = confirmados[testes_colunas].count()\n",
        "count_testes"
      ],
      "execution_count": 44,
      "outputs": [
        {
          "output_type": "execute_result",
          "data": {
            "text/plain": [
              "_teste_anticorpo    52177\n",
              "_teste_antigeno      8342\n",
              "_teste_pcr          23308\n",
              "dtype: int64"
            ]
          },
          "metadata": {},
          "execution_count": 44
        }
      ]
    },
    {
      "cell_type": "markdown",
      "metadata": {
        "id": "_MslJfZimWlz"
      },
      "source": [
        "Percentual de testes realizados por tipo de testagem:"
      ]
    },
    {
      "cell_type": "code",
      "metadata": {
        "id": "MeRYphHfmWl0",
        "colab": {
          "base_uri": "https://localhost:8080/"
        },
        "outputId": "a90fb509-8895-41e2-87f7-6a931f31f30b"
      },
      "source": [
        "count_testes/count_testes.sum()*100"
      ],
      "execution_count": 45,
      "outputs": [
        {
          "output_type": "execute_result",
          "data": {
            "text/plain": [
              "_teste_anticorpo    62.243669\n",
              "_teste_antigeno      9.951448\n",
              "_teste_pcr          27.804884\n",
              "dtype: float64"
            ]
          },
          "metadata": {},
          "execution_count": 45
        }
      ]
    },
    {
      "cell_type": "markdown",
      "metadata": {
        "id": "opYKWbyimWl0"
      },
      "source": [
        "Percentual de testes realizados por casos:"
      ]
    },
    {
      "cell_type": "code",
      "metadata": {
        "id": "pzNooGeemWl1",
        "colab": {
          "base_uri": "https://localhost:8080/"
        },
        "outputId": "3e5bce30-a7a8-44af-a9b1-dec68c54937b"
      },
      "source": [
        "count_testes/len(confirmados)*100"
      ],
      "execution_count": 46,
      "outputs": [
        {
          "output_type": "execute_result",
          "data": {
            "text/plain": [
              "_teste_anticorpo    64.880627\n",
              "_teste_antigeno     10.373042\n",
              "_teste_pcr          28.982840\n",
              "dtype: float64"
            ]
          },
          "metadata": {},
          "execution_count": 46
        }
      ]
    },
    {
      "cell_type": "markdown",
      "metadata": {
        "run_control": {
          "marked": true
        },
        "id": "jC9kzj0ImWl1"
      },
      "source": [
        "###### 8. Qual taxa de letalidade pode ser calculada a partir do conjunto de dados?"
      ]
    },
    {
      "cell_type": "code",
      "metadata": {
        "ExecuteTime": {
          "end_time": "2017-03-19T23:22:07.306171Z",
          "start_time": "2017-03-19T19:22:07.286965-04:00"
        },
        "id": "B3EmQNuzmWl1",
        "colab": {
          "base_uri": "https://localhost:8080/",
          "height": 357
        },
        "outputId": "430be2a2-e8a0-470f-84ea-5edb2d4550af"
      },
      "source": [
        "obitos = data.loc[data['_conclusao'] == \"Óbito\"]\n",
        "obitos.head(10)"
      ],
      "execution_count": 47,
      "outputs": [
        {
          "output_type": "execute_result",
          "data": {
            "text/html": [
              "<div>\n",
              "<style scoped>\n",
              "    .dataframe tbody tr th:only-of-type {\n",
              "        vertical-align: middle;\n",
              "    }\n",
              "\n",
              "    .dataframe tbody tr th {\n",
              "        vertical-align: top;\n",
              "    }\n",
              "\n",
              "    .dataframe thead th {\n",
              "        text-align: right;\n",
              "    }\n",
              "</style>\n",
              "<table border=\"1\" class=\"dataframe\">\n",
              "  <thead>\n",
              "    <tr style=\"text-align: right;\">\n",
              "      <th></th>\n",
              "      <th>_dt_notificacao</th>\n",
              "      <th>_classificacao</th>\n",
              "      <th>_conclusao</th>\n",
              "      <th>_idade</th>\n",
              "      <th>_sexo</th>\n",
              "      <th>_teste_anticorpo</th>\n",
              "      <th>_teste_antigeno</th>\n",
              "      <th>_teste_pcr</th>\n",
              "      <th>_bairro</th>\n",
              "      <th>_bairro_mapa</th>\n",
              "      <th>_taxa</th>\n",
              "    </tr>\n",
              "  </thead>\n",
              "  <tbody>\n",
              "    <tr>\n",
              "      <th>247</th>\n",
              "      <td>23/03/2020 00:00</td>\n",
              "      <td>Confirmado</td>\n",
              "      <td>Óbito</td>\n",
              "      <td>0.0</td>\n",
              "      <td>F</td>\n",
              "      <td>NaN</td>\n",
              "      <td>NaN</td>\n",
              "      <td>1.0</td>\n",
              "      <td>lirio do vale</td>\n",
              "      <td>lirio do vale</td>\n",
              "      <td>0,383376783</td>\n",
              "    </tr>\n",
              "    <tr>\n",
              "      <th>263</th>\n",
              "      <td>25/03/2020 00:00</td>\n",
              "      <td>Confirmado</td>\n",
              "      <td>Óbito</td>\n",
              "      <td>55.0</td>\n",
              "      <td>M</td>\n",
              "      <td>NaN</td>\n",
              "      <td>NaN</td>\n",
              "      <td>1.0</td>\n",
              "      <td>colonia terra nova</td>\n",
              "      <td>colonia terra nova</td>\n",
              "      <td>0,183150183</td>\n",
              "    </tr>\n",
              "    <tr>\n",
              "      <th>270</th>\n",
              "      <td>20/03/2020 00:00</td>\n",
              "      <td>Confirmado</td>\n",
              "      <td>Óbito</td>\n",
              "      <td>43.0</td>\n",
              "      <td>M</td>\n",
              "      <td>NaN</td>\n",
              "      <td>NaN</td>\n",
              "      <td>1.0</td>\n",
              "      <td>cidade nova</td>\n",
              "      <td>cidade nova</td>\n",
              "      <td>0,068152389</td>\n",
              "    </tr>\n",
              "    <tr>\n",
              "      <th>283</th>\n",
              "      <td>26/03/2020 00:00</td>\n",
              "      <td>Confirmado</td>\n",
              "      <td>Óbito</td>\n",
              "      <td>51.0</td>\n",
              "      <td>M</td>\n",
              "      <td>NaN</td>\n",
              "      <td>NaN</td>\n",
              "      <td>NaN</td>\n",
              "      <td>adrianopolis</td>\n",
              "      <td>adrianopolis</td>\n",
              "      <td>0,99960016</td>\n",
              "    </tr>\n",
              "    <tr>\n",
              "      <th>286</th>\n",
              "      <td>26/03/2020 00:00</td>\n",
              "      <td>Confirmado</td>\n",
              "      <td>Óbito</td>\n",
              "      <td>50.0</td>\n",
              "      <td>F</td>\n",
              "      <td>NaN</td>\n",
              "      <td>NaN</td>\n",
              "      <td>1.0</td>\n",
              "      <td>nova cidade</td>\n",
              "      <td>nova cidade</td>\n",
              "      <td>0,13857325</td>\n",
              "    </tr>\n",
              "    <tr>\n",
              "      <th>288</th>\n",
              "      <td>27/03/2020 00:00</td>\n",
              "      <td>Confirmado</td>\n",
              "      <td>Óbito</td>\n",
              "      <td>46.0</td>\n",
              "      <td>M</td>\n",
              "      <td>NaN</td>\n",
              "      <td>NaN</td>\n",
              "      <td>NaN</td>\n",
              "      <td>centro</td>\n",
              "      <td>centro</td>\n",
              "      <td>0,284843479</td>\n",
              "    </tr>\n",
              "    <tr>\n",
              "      <th>298</th>\n",
              "      <td>26/03/2020 00:00</td>\n",
              "      <td>Confirmado</td>\n",
              "      <td>Óbito</td>\n",
              "      <td>40.0</td>\n",
              "      <td>M</td>\n",
              "      <td>NaN</td>\n",
              "      <td>NaN</td>\n",
              "      <td>NaN</td>\n",
              "      <td>centro</td>\n",
              "      <td>centro</td>\n",
              "      <td>0,284843479</td>\n",
              "    </tr>\n",
              "    <tr>\n",
              "      <th>309</th>\n",
              "      <td>28/03/2020 00:00</td>\n",
              "      <td>Confirmado</td>\n",
              "      <td>Óbito</td>\n",
              "      <td>40.0</td>\n",
              "      <td>M</td>\n",
              "      <td>NaN</td>\n",
              "      <td>NaN</td>\n",
              "      <td>2.0</td>\n",
              "      <td>jorge teixeira</td>\n",
              "      <td>jorge teixeira</td>\n",
              "      <td>0,073137374</td>\n",
              "    </tr>\n",
              "    <tr>\n",
              "      <th>319</th>\n",
              "      <td>28/03/2020 00:00</td>\n",
              "      <td>Confirmado</td>\n",
              "      <td>Óbito</td>\n",
              "      <td>34.0</td>\n",
              "      <td>M</td>\n",
              "      <td>NaN</td>\n",
              "      <td>NaN</td>\n",
              "      <td>1.0</td>\n",
              "      <td>sao lazaro</td>\n",
              "      <td>sao lazaro</td>\n",
              "      <td>0,74811102</td>\n",
              "    </tr>\n",
              "    <tr>\n",
              "      <th>322</th>\n",
              "      <td>28/03/2020 00:00</td>\n",
              "      <td>Confirmado</td>\n",
              "      <td>Óbito</td>\n",
              "      <td>48.0</td>\n",
              "      <td>M</td>\n",
              "      <td>NaN</td>\n",
              "      <td>NaN</td>\n",
              "      <td>2.0</td>\n",
              "      <td>compensa</td>\n",
              "      <td>compensa</td>\n",
              "      <td>0,108867236</td>\n",
              "    </tr>\n",
              "  </tbody>\n",
              "</table>\n",
              "</div>"
            ],
            "text/plain": [
              "      _dt_notificacao _classificacao  ...        _bairro_mapa        _taxa\n",
              "247  23/03/2020 00:00     Confirmado  ...       lirio do vale  0,383376783\n",
              "263  25/03/2020 00:00     Confirmado  ...  colonia terra nova  0,183150183\n",
              "270  20/03/2020 00:00     Confirmado  ...         cidade nova  0,068152389\n",
              "283  26/03/2020 00:00     Confirmado  ...        adrianopolis   0,99960016\n",
              "286  26/03/2020 00:00     Confirmado  ...         nova cidade   0,13857325\n",
              "288  27/03/2020 00:00     Confirmado  ...              centro  0,284843479\n",
              "298  26/03/2020 00:00     Confirmado  ...              centro  0,284843479\n",
              "309  28/03/2020 00:00     Confirmado  ...      jorge teixeira  0,073137374\n",
              "319  28/03/2020 00:00     Confirmado  ...          sao lazaro   0,74811102\n",
              "322  28/03/2020 00:00     Confirmado  ...            compensa  0,108867236\n",
              "\n",
              "[10 rows x 11 columns]"
            ]
          },
          "metadata": {},
          "execution_count": 47
        }
      ]
    },
    {
      "cell_type": "code",
      "metadata": {
        "ExecuteTime": {
          "end_time": "2017-03-19T23:22:07.306171Z",
          "start_time": "2017-03-19T19:22:07.286965-04:00"
        },
        "id": "xPRVaZLQmWl2",
        "colab": {
          "base_uri": "https://localhost:8080/"
        },
        "outputId": "a858a3e1-1cb7-49c6-c06d-016da50223dc"
      },
      "source": [
        "print(f'{len(obitos)/len(data)*100} %')"
      ],
      "execution_count": 48,
      "outputs": [
        {
          "output_type": "stream",
          "name": "stdout",
          "text": [
            "7.973605278944211 %\n"
          ]
        }
      ]
    },
    {
      "cell_type": "markdown",
      "metadata": {
        "id": "neIF_TRhmWl2"
      },
      "source": [
        "###### 9. Qual o tipo de correlação, mediante coeficiente de correlação de Pearson, entre a idade e o número de casos? Para responder a esta pergunte, agrupe o número de casos por idade e efetue o cálculo de tal coeficiente. Indique, a partir do resultado, a natureza desta correlação, se é positiva ou negativa, e qual sua intensidade."
      ]
    },
    {
      "cell_type": "code",
      "metadata": {
        "id": "dvtaS-ormWl3",
        "colab": {
          "base_uri": "https://localhost:8080/",
          "height": 417
        },
        "outputId": "f0b3e96f-1262-4a5b-fd16-62fbaaa0f44d"
      },
      "source": [
        "n_casos_por_idade = pd.DataFrame(data.groupby('_idade').size(), columns = ['numero_de_casos']).reset_index(level=0)\n",
        "n_casos_por_idade"
      ],
      "execution_count": 49,
      "outputs": [
        {
          "output_type": "execute_result",
          "data": {
            "text/html": [
              "<div>\n",
              "<style scoped>\n",
              "    .dataframe tbody tr th:only-of-type {\n",
              "        vertical-align: middle;\n",
              "    }\n",
              "\n",
              "    .dataframe tbody tr th {\n",
              "        vertical-align: top;\n",
              "    }\n",
              "\n",
              "    .dataframe thead th {\n",
              "        text-align: right;\n",
              "    }\n",
              "</style>\n",
              "<table border=\"1\" class=\"dataframe\">\n",
              "  <thead>\n",
              "    <tr style=\"text-align: right;\">\n",
              "      <th></th>\n",
              "      <th>_idade</th>\n",
              "      <th>numero_de_casos</th>\n",
              "    </tr>\n",
              "  </thead>\n",
              "  <tbody>\n",
              "    <tr>\n",
              "      <th>0</th>\n",
              "      <td>0.0</td>\n",
              "      <td>340</td>\n",
              "    </tr>\n",
              "    <tr>\n",
              "      <th>1</th>\n",
              "      <td>1.0</td>\n",
              "      <td>171</td>\n",
              "    </tr>\n",
              "    <tr>\n",
              "      <th>2</th>\n",
              "      <td>2.0</td>\n",
              "      <td>110</td>\n",
              "    </tr>\n",
              "    <tr>\n",
              "      <th>3</th>\n",
              "      <td>3.0</td>\n",
              "      <td>88</td>\n",
              "    </tr>\n",
              "    <tr>\n",
              "      <th>4</th>\n",
              "      <td>4.0</td>\n",
              "      <td>84</td>\n",
              "    </tr>\n",
              "    <tr>\n",
              "      <th>...</th>\n",
              "      <td>...</td>\n",
              "      <td>...</td>\n",
              "    </tr>\n",
              "    <tr>\n",
              "      <th>102</th>\n",
              "      <td>102.0</td>\n",
              "      <td>2</td>\n",
              "    </tr>\n",
              "    <tr>\n",
              "      <th>103</th>\n",
              "      <td>104.0</td>\n",
              "      <td>2</td>\n",
              "    </tr>\n",
              "    <tr>\n",
              "      <th>104</th>\n",
              "      <td>106.0</td>\n",
              "      <td>2</td>\n",
              "    </tr>\n",
              "    <tr>\n",
              "      <th>105</th>\n",
              "      <td>119.0</td>\n",
              "      <td>1</td>\n",
              "    </tr>\n",
              "    <tr>\n",
              "      <th>106</th>\n",
              "      <td>120.0</td>\n",
              "      <td>1</td>\n",
              "    </tr>\n",
              "  </tbody>\n",
              "</table>\n",
              "<p>107 rows × 2 columns</p>\n",
              "</div>"
            ],
            "text/plain": [
              "     _idade  numero_de_casos\n",
              "0       0.0              340\n",
              "1       1.0              171\n",
              "2       2.0              110\n",
              "3       3.0               88\n",
              "4       4.0               84\n",
              "..      ...              ...\n",
              "102   102.0                2\n",
              "103   104.0                2\n",
              "104   106.0                2\n",
              "105   119.0                1\n",
              "106   120.0                1\n",
              "\n",
              "[107 rows x 2 columns]"
            ]
          },
          "metadata": {},
          "execution_count": 49
        }
      ]
    },
    {
      "cell_type": "code",
      "metadata": {
        "id": "rI5S-v6AmWl3",
        "colab": {
          "base_uri": "https://localhost:8080/",
          "height": 110
        },
        "outputId": "9a219c32-4a38-46d2-fa79-ba2a02004c44"
      },
      "source": [
        "n_casos_por_idade.corr()"
      ],
      "execution_count": 50,
      "outputs": [
        {
          "output_type": "execute_result",
          "data": {
            "text/html": [
              "<div>\n",
              "<style scoped>\n",
              "    .dataframe tbody tr th:only-of-type {\n",
              "        vertical-align: middle;\n",
              "    }\n",
              "\n",
              "    .dataframe tbody tr th {\n",
              "        vertical-align: top;\n",
              "    }\n",
              "\n",
              "    .dataframe thead th {\n",
              "        text-align: right;\n",
              "    }\n",
              "</style>\n",
              "<table border=\"1\" class=\"dataframe\">\n",
              "  <thead>\n",
              "    <tr style=\"text-align: right;\">\n",
              "      <th></th>\n",
              "      <th>_idade</th>\n",
              "      <th>numero_de_casos</th>\n",
              "    </tr>\n",
              "  </thead>\n",
              "  <tbody>\n",
              "    <tr>\n",
              "      <th>_idade</th>\n",
              "      <td>1.000000</td>\n",
              "      <td>-0.345031</td>\n",
              "    </tr>\n",
              "    <tr>\n",
              "      <th>numero_de_casos</th>\n",
              "      <td>-0.345031</td>\n",
              "      <td>1.000000</td>\n",
              "    </tr>\n",
              "  </tbody>\n",
              "</table>\n",
              "</div>"
            ],
            "text/plain": [
              "                   _idade  numero_de_casos\n",
              "_idade           1.000000        -0.345031\n",
              "numero_de_casos -0.345031         1.000000"
            ]
          },
          "metadata": {},
          "execution_count": 50
        }
      ]
    },
    {
      "cell_type": "markdown",
      "metadata": {
        "id": "GLD-L1sUmWl4"
      },
      "source": [
        "* ρ = 0,3 a 0,5 (positivo ou negativo): correlação fraca.\n",
        "\n",
        "Logo, **ρ = -0.345031** indica que o número de casos de COVID-19 tem fraca correlação (negativa, quando uma variável cresce a outra decresce, ou vice-versa) com a idade."
      ]
    },
    {
      "cell_type": "markdown",
      "metadata": {
        "id": "HIY-3h3rmWl4"
      },
      "source": [
        "# 2.2 Visualização de Dados"
      ]
    },
    {
      "cell_type": "markdown",
      "metadata": {
        "id": "7WMoPiUfmWl4"
      },
      "source": [
        "Importação das principais bibliotecas."
      ]
    },
    {
      "cell_type": "code",
      "metadata": {
        "id": "BoO6-qmMmWl5"
      },
      "source": [
        "import matplotlib.pyplot as plt\n",
        "%matplotlib inline"
      ],
      "execution_count": 51,
      "outputs": []
    },
    {
      "cell_type": "code",
      "metadata": {
        "id": "K4fsCQHmmWl5"
      },
      "source": [
        "#import seaborn as sns\n",
        "\n",
        "#sns.set_context('notebook')"
      ],
      "execution_count": 52,
      "outputs": []
    },
    {
      "cell_type": "markdown",
      "metadata": {
        "id": "lHJRYcIamWl5"
      },
      "source": [
        "###### 1. Construa um histograma denotando a quantidade de casos nos 10 bairros em que houve mais casos registrados. Inclua todos os bairros remanescentes em uma categoria denominada “Outros.” Denote as informações de maneira percentual;"
      ]
    },
    {
      "cell_type": "code",
      "metadata": {
        "id": "W215vuOqmWl6",
        "colab": {
          "base_uri": "https://localhost:8080/"
        },
        "outputId": "615ad525-38da-420e-9966-a4f134d60bc6"
      },
      "source": [
        "casos_por_bairro = data._bairro_mapa.value_counts(normalize=True) * 100\n",
        "casos_por_bairro"
      ],
      "execution_count": 53,
      "outputs": [
        {
          "output_type": "execute_result",
          "data": {
            "text/plain": [
              "sao jose operario          5.641272\n",
              "cidade nova                5.562088\n",
              "alvorada                   4.835033\n",
              "compensa                   4.818236\n",
              "jorge teixeira             4.767846\n",
              "                             ...   \n",
              "nossa senhora aparecida    0.182364\n",
              "rio negro                  0.057588\n",
              "br-174                     0.057588\n",
              "am-010                     0.014397\n",
              "rio taruma-mirim           0.007199\n",
              "Name: _bairro_mapa, Length: 67, dtype: float64"
            ]
          },
          "metadata": {},
          "execution_count": 53
        }
      ]
    },
    {
      "cell_type": "code",
      "metadata": {
        "id": "006X77SlmWl6",
        "colab": {
          "base_uri": "https://localhost:8080/"
        },
        "outputId": "ad35138c-4569-484c-be3b-1db3d6a18d18"
      },
      "source": [
        "n = 10\n",
        "n_primeiros = casos_por_bairro[:n]\n",
        "print(f'Primeiros {n}')\n",
        "print(n_primeiros)\n",
        "print('Outros')\n",
        "outros = casos_por_bairro[n:]\n",
        "print(outros)"
      ],
      "execution_count": 54,
      "outputs": [
        {
          "output_type": "stream",
          "name": "stdout",
          "text": [
            "Primeiros 10\n",
            "sao jose operario        5.641272\n",
            "cidade nova              5.562088\n",
            "alvorada                 4.835033\n",
            "compensa                 4.818236\n",
            "jorge teixeira           4.767846\n",
            "coroado                  4.362328\n",
            "taruma                   3.200960\n",
            "flores                   2.953809\n",
            "parque 10 de novembro    2.764247\n",
            "tancredo neves           2.689862\n",
            "Name: _bairro_mapa, dtype: float64\n",
            "Outros\n",
            "redencao                    2.497900\n",
            "novo aleixo                 2.435513\n",
            "dom pedro                   2.349130\n",
            "japiim                      2.329934\n",
            "zumbi dos palmares          2.327534\n",
            "centro                      2.085183\n",
            "ponta negra                 2.058788\n",
            "sao jorge                   2.058788\n",
            "petropolis                  2.008398\n",
            "planalto                    1.960408\n",
            "aleixo                      1.886023\n",
            "santo antonio               1.869226\n",
            "gilberto mestrinho          1.715657\n",
            "nova cidade                 1.641272\n",
            "lirio do vale               1.526095\n",
            "armando mendes              1.362927\n",
            "adrianopolis                1.355729\n",
            "cidade de deus              1.353329\n",
            "colonia terra nova          1.329334\n",
            "nova esperanca              1.329334\n",
            "da paz                      1.108578\n",
            "mauazinho                   1.089382\n",
            "colonia antonio aleixo      1.043791\n",
            "santo agostinho             1.022196\n",
            "sao raimundo                0.945411\n",
            "monte das oliveiras         0.945411\n",
            "santa etelvina              0.897421\n",
            "cachoeirinha                0.863827\n",
            "nossa senhora das gracas    0.820636\n",
            "lago azul                   0.799040\n",
            "sao francisco               0.715057\n",
            "taruma-acu                  0.710258\n",
            "chapada                     0.705459\n",
            "betania                     0.657469\n",
            "vila da prata               0.645471\n",
            "educandos                   0.611878\n",
            "distrito industrial i       0.607079\n",
            "raiz                        0.597481\n",
            "sao lazaro                  0.590282\n",
            "praca 14 de janeiro         0.585483\n",
            "morro da liberdade          0.523095\n",
            "colonia santo antonio       0.491902\n",
            "gloria                      0.477504\n",
            "novo israel                 0.477504\n",
            "presidente vargas           0.376725\n",
            "puraquequara                0.374325\n",
            "vila buriti                 0.362328\n",
            "colonia oliveira machado    0.340732\n",
            "sao geraldo                 0.328734\n",
            "distrito industrial ii      0.314337\n",
            "santa luzia                 0.292741\n",
            "crespo                      0.283143\n",
            "nossa senhora aparecida     0.182364\n",
            "rio negro                   0.057588\n",
            "br-174                      0.057588\n",
            "am-010                      0.014397\n",
            "rio taruma-mirim            0.007199\n",
            "Name: _bairro_mapa, dtype: float64\n"
          ]
        }
      ]
    },
    {
      "cell_type": "code",
      "metadata": {
        "id": "8HHiffUqmWl7",
        "colab": {
          "base_uri": "https://localhost:8080/"
        },
        "outputId": "200f1c95-af9a-4931-cf7e-8fdf955f1c80"
      },
      "source": [
        "serie_outros = pd.Series(data=[outros.sum()], index=['Outros'])\n",
        "serie_outros"
      ],
      "execution_count": 55,
      "outputs": [
        {
          "output_type": "execute_result",
          "data": {
            "text/plain": [
              "Outros    58.404319\n",
              "dtype: float64"
            ]
          },
          "metadata": {},
          "execution_count": 55
        }
      ]
    },
    {
      "cell_type": "code",
      "metadata": {
        "id": "v6IHeQBtmWl7",
        "colab": {
          "base_uri": "https://localhost:8080/"
        },
        "outputId": "96f3992c-1f0b-4373-dfb3-ae9025052253"
      },
      "source": [
        "hist_data = n_primeiros.append(serie_outros)\n",
        "hist_data"
      ],
      "execution_count": 56,
      "outputs": [
        {
          "output_type": "execute_result",
          "data": {
            "text/plain": [
              "sao jose operario         5.641272\n",
              "cidade nova               5.562088\n",
              "alvorada                  4.835033\n",
              "compensa                  4.818236\n",
              "jorge teixeira            4.767846\n",
              "coroado                   4.362328\n",
              "taruma                    3.200960\n",
              "flores                    2.953809\n",
              "parque 10 de novembro     2.764247\n",
              "tancredo neves            2.689862\n",
              "Outros                   58.404319\n",
              "dtype: float64"
            ]
          },
          "metadata": {},
          "execution_count": 56
        }
      ]
    },
    {
      "cell_type": "code",
      "metadata": {
        "id": "L2b8uL32mWl8",
        "colab": {
          "base_uri": "https://localhost:8080/",
          "height": 388
        },
        "outputId": "92074641-7b21-4d82-ead3-bc3aa6bbebeb"
      },
      "source": [
        "pd_bairros = pd.DataFrame(data=hist_data, columns=['porcentagem_casos'])\n",
        "pd_bairros"
      ],
      "execution_count": 57,
      "outputs": [
        {
          "output_type": "execute_result",
          "data": {
            "text/html": [
              "<div>\n",
              "<style scoped>\n",
              "    .dataframe tbody tr th:only-of-type {\n",
              "        vertical-align: middle;\n",
              "    }\n",
              "\n",
              "    .dataframe tbody tr th {\n",
              "        vertical-align: top;\n",
              "    }\n",
              "\n",
              "    .dataframe thead th {\n",
              "        text-align: right;\n",
              "    }\n",
              "</style>\n",
              "<table border=\"1\" class=\"dataframe\">\n",
              "  <thead>\n",
              "    <tr style=\"text-align: right;\">\n",
              "      <th></th>\n",
              "      <th>porcentagem_casos</th>\n",
              "    </tr>\n",
              "  </thead>\n",
              "  <tbody>\n",
              "    <tr>\n",
              "      <th>sao jose operario</th>\n",
              "      <td>5.641272</td>\n",
              "    </tr>\n",
              "    <tr>\n",
              "      <th>cidade nova</th>\n",
              "      <td>5.562088</td>\n",
              "    </tr>\n",
              "    <tr>\n",
              "      <th>alvorada</th>\n",
              "      <td>4.835033</td>\n",
              "    </tr>\n",
              "    <tr>\n",
              "      <th>compensa</th>\n",
              "      <td>4.818236</td>\n",
              "    </tr>\n",
              "    <tr>\n",
              "      <th>jorge teixeira</th>\n",
              "      <td>4.767846</td>\n",
              "    </tr>\n",
              "    <tr>\n",
              "      <th>coroado</th>\n",
              "      <td>4.362328</td>\n",
              "    </tr>\n",
              "    <tr>\n",
              "      <th>taruma</th>\n",
              "      <td>3.200960</td>\n",
              "    </tr>\n",
              "    <tr>\n",
              "      <th>flores</th>\n",
              "      <td>2.953809</td>\n",
              "    </tr>\n",
              "    <tr>\n",
              "      <th>parque 10 de novembro</th>\n",
              "      <td>2.764247</td>\n",
              "    </tr>\n",
              "    <tr>\n",
              "      <th>tancredo neves</th>\n",
              "      <td>2.689862</td>\n",
              "    </tr>\n",
              "    <tr>\n",
              "      <th>Outros</th>\n",
              "      <td>58.404319</td>\n",
              "    </tr>\n",
              "  </tbody>\n",
              "</table>\n",
              "</div>"
            ],
            "text/plain": [
              "                       porcentagem_casos\n",
              "sao jose operario               5.641272\n",
              "cidade nova                     5.562088\n",
              "alvorada                        4.835033\n",
              "compensa                        4.818236\n",
              "jorge teixeira                  4.767846\n",
              "coroado                         4.362328\n",
              "taruma                          3.200960\n",
              "flores                          2.953809\n",
              "parque 10 de novembro           2.764247\n",
              "tancredo neves                  2.689862\n",
              "Outros                         58.404319"
            ]
          },
          "metadata": {},
          "execution_count": 57
        }
      ]
    },
    {
      "cell_type": "code",
      "metadata": {
        "id": "ibiVxKcGmWl8",
        "colab": {
          "base_uri": "https://localhost:8080/",
          "height": 406
        },
        "outputId": "5dac28b8-15f9-4666-a91c-cda62a502ce6"
      },
      "source": [
        "ax = pd_bairros.plot.bar()\n",
        "ax.set_ylabel('Casos (%)')\n",
        "ax.set_xlabel('Bairro')"
      ],
      "execution_count": 58,
      "outputs": [
        {
          "output_type": "execute_result",
          "data": {
            "text/plain": [
              "Text(0.5, 0, 'Bairro')"
            ]
          },
          "metadata": {},
          "execution_count": 58
        },
        {
          "output_type": "display_data",
          "data": {
            "image/png": "[encoded data removed]",
            "text/plain": [
              "<Figure size 432x288 with 1 Axes>"
            ]
          },
          "metadata": {
            "needs_background": "light"
          }
        }
      ]
    },
    {
      "cell_type": "code",
      "metadata": {
        "id": "Sv6mowJimWl8",
        "colab": {
          "base_uri": "https://localhost:8080/"
        },
        "outputId": "83d05c9a-45c7-4c99-af9f-5f92a302fe44"
      },
      "source": [
        "pd_bairros.sum()"
      ],
      "execution_count": 59,
      "outputs": [
        {
          "output_type": "execute_result",
          "data": {
            "text/plain": [
              "porcentagem_casos    100.0\n",
              "dtype: float64"
            ]
          },
          "metadata": {},
          "execution_count": 59
        }
      ]
    },
    {
      "cell_type": "markdown",
      "metadata": {
        "id": "VRfq50n1mWl9"
      },
      "source": [
        "###### 2. Denote, por sexo, o boxplot da idade dos casos confirmados. Há outliers?"
      ]
    },
    {
      "cell_type": "code",
      "metadata": {
        "id": "njyLW51jmWl9",
        "colab": {
          "base_uri": "https://localhost:8080/",
          "height": 374
        },
        "outputId": "a2cbc955-1362-4c48-a9a7-bfe610610817"
      },
      "source": [
        "plt.figure();\n",
        "bp = data.boxplot(column=['_idade'], by=['_sexo']);\n",
        "bp.set_title('');\n",
        "bp.set_ylabel('Idade (anos)');\n",
        "bp.set_xlabel('Sexo');"
      ],
      "execution_count": 60,
      "outputs": [
        {
          "output_type": "stream",
          "name": "stderr",
          "text": [
            "/usr/local/lib/python3.7/dist-packages/numpy/core/_asarray.py:83: VisibleDeprecationWarning: Creating an ndarray from ragged nested sequences (which is a list-or-tuple of lists-or-tuples-or ndarrays with different lengths or shapes) is deprecated. If you meant to do this, you must specify 'dtype=object' when creating the ndarray\n",
            "  return array(a, dtype, copy=False, order=order)\n"
          ]
        },
        {
          "output_type": "display_data",
          "data": {
            "text/plain": [
              "<Figure size 432x288 with 0 Axes>"
            ]
          },
          "metadata": {}
        },
        {
          "output_type": "display_data",
          "data": {
            "image/png": "[encoded data removed]",
            "text/plain": [
              "<Figure size 432x288 with 1 Axes>"
            ]
          },
          "metadata": {
            "needs_background": "light"
          }
        }
      ]
    },
    {
      "cell_type": "markdown",
      "metadata": {
        "id": "aWXKMq-fmWmB"
      },
      "source": [
        "Vê-se outliers somente acima do extremo (whisker ou fio de bigode) superior no box plot masculino."
      ]
    },
    {
      "cell_type": "markdown",
      "metadata": {
        "id": "EoT7uQATmWmB"
      },
      "source": [
        "No feminino houve a presença de outliers em ambos os extremos (whisker ou fio de bigode), mais dispersos na parte superior."
      ]
    },
    {
      "cell_type": "markdown",
      "metadata": {
        "id": "rQXIHqgOmWmC"
      },
      "source": [
        "###### 3. Denote em um gráfico de barras o número de novos casos por dia, considerando os 10 últimos dias existentes na base de dados;"
      ]
    },
    {
      "cell_type": "code",
      "metadata": {
        "scrolled": true,
        "id": "PSKoQGlqmWmC",
        "colab": {
          "base_uri": "https://localhost:8080/"
        },
        "outputId": "41050b66-c912-452a-a1ad-6486daa808f6"
      },
      "source": [
        "dias = (pd.to_datetime(data['_dt_notificacao'], format='%d/%m/%Y %H:%M').dt.floor('d').value_counts(sort=False))\n",
        "dias.sort_index(inplace=True)\n",
        "print(dias.sum())"
      ],
      "execution_count": 61,
      "outputs": [
        {
          "output_type": "stream",
          "name": "stdout",
          "text": [
            "41675\n"
          ]
        }
      ]
    },
    {
      "cell_type": "code",
      "metadata": {
        "id": "bvE-ZuNSmWmC",
        "colab": {
          "base_uri": "https://localhost:8080/",
          "height": 374
        },
        "outputId": "d8c3bc32-23d6-4b89-e444-8ebce7852132"
      },
      "source": [
        "ax = dias.tail(10).plot.bar()\n",
        "ax.set_ylabel('Casos')\n",
        "ax.set_xlabel('Dias');"
      ],
      "execution_count": 62,
      "outputs": [
        {
          "output_type": "display_data",
          "data": {
            "image/png": "[encoded data removed]",
            "text/plain": [
              "<Figure size 432x288 with 1 Axes>"
            ]
          },
          "metadata": {
            "needs_background": "light"
          }
        }
      ]
    },
    {
      "cell_type": "markdown",
      "metadata": {
        "id": "3ZuKd52OmWmD"
      },
      "source": [
        "###### 4. Repita o gráfico anterior considerando o número de casos recuperados;"
      ]
    },
    {
      "cell_type": "code",
      "metadata": {
        "id": "YrmGWDYRmWmD",
        "colab": {
          "base_uri": "https://localhost:8080/"
        },
        "outputId": "103d723c-4f2e-4265-c2c9-97dd1e63793e"
      },
      "source": [
        "recuperados = data.loc[data['_conclusao'] == \"Recuperado\"]\n",
        "dias = (pd.to_datetime(recuperados['_dt_notificacao'], format='%d/%m/%Y %H:%M').dt.floor('d').value_counts(sort=False))\n",
        "dias.sort_index(inplace=True)\n",
        "print(dias.sum())"
      ],
      "execution_count": 63,
      "outputs": [
        {
          "output_type": "stream",
          "name": "stdout",
          "text": [
            "38296\n"
          ]
        }
      ]
    },
    {
      "cell_type": "code",
      "metadata": {
        "scrolled": true,
        "id": "iRMMT2FGmWmE",
        "colab": {
          "base_uri": "https://localhost:8080/",
          "height": 374
        },
        "outputId": "118744ab-6a63-4a02-a647-fbef03cd8a39"
      },
      "source": [
        "ax = dias.tail(10).plot.bar()\n",
        "ax.set_ylabel('Casos')\n",
        "ax.set_xlabel('Dias');"
      ],
      "execution_count": 64,
      "outputs": [
        {
          "output_type": "display_data",
          "data": {
            "image/png": "[encoded data removed]",
            "text/plain": [
              "<Figure size 432x288 with 1 Axes>"
            ]
          },
          "metadata": {
            "needs_background": "light"
          }
        }
      ]
    },
    {
      "cell_type": "markdown",
      "metadata": {
        "id": "GtiD0KwmmWmE"
      },
      "source": [
        "###### 5. Construa um histograma que denote a quantidade percentual de casos por grupo etário, considerando que cada grupo contempla uma década (0 a 10 anos, 11 a 20 anos, etc.);"
      ]
    },
    {
      "cell_type": "code",
      "metadata": {
        "id": "E6ri0gQrmWmF",
        "colab": {
          "base_uri": "https://localhost:8080/"
        },
        "outputId": "b6f6e199-6ec8-4dcd-829a-d86e9c6658f5"
      },
      "source": [
        "faixa_idade = data.groupby(data._idade.sub(1).abs().floordiv(10)).size()\n",
        "faixa_idade = faixa_idade.rename(index={0: '0-10', 1: '11-20', 2: '21-30', \\\n",
        "                                        3: '31-40', 4: '41-50', 5: '51-60', \\\n",
        "                                        6: '61-70', 7: '71-80', 8: '81-90', \\\n",
        "                                        9: '91-100', 10: '101-110', 11: '111-120'})\n",
        "faixa_idade"
      ],
      "execution_count": 65,
      "outputs": [
        {
          "output_type": "execute_result",
          "data": {
            "text/plain": [
              "_idade\n",
              "0-10       1288\n",
              "11-20      1795\n",
              "21-30      5956\n",
              "31-40      9852\n",
              "41-50      9593\n",
              "51-60      6471\n",
              "61-70      3728\n",
              "71-80      1965\n",
              "81-90       836\n",
              "91-100      182\n",
              "101-110       7\n",
              "111-120       2\n",
              "dtype: int64"
            ]
          },
          "metadata": {},
          "execution_count": 65
        }
      ]
    },
    {
      "cell_type": "code",
      "metadata": {
        "id": "hxjIUX-3mWmF",
        "colab": {
          "base_uri": "https://localhost:8080/"
        },
        "outputId": "2379aaea-4a42-49cf-c8da-ea38078f5568"
      },
      "source": [
        "faixa_idade_percent = faixa_idade.div(len(data)).mul(100)\n",
        "faixa_idade_percent"
      ],
      "execution_count": 66,
      "outputs": [
        {
          "output_type": "execute_result",
          "data": {
            "text/plain": [
              "_idade\n",
              "0-10        3.090582\n",
              "11-20       4.307139\n",
              "21-30      14.291542\n",
              "31-40      23.640072\n",
              "41-50      23.018596\n",
              "51-60      15.527295\n",
              "61-70       8.945411\n",
              "71-80       4.715057\n",
              "81-90       2.005999\n",
              "91-100      0.436713\n",
              "101-110     0.016797\n",
              "111-120     0.004799\n",
              "dtype: float64"
            ]
          },
          "metadata": {},
          "execution_count": 66
        }
      ]
    },
    {
      "cell_type": "code",
      "metadata": {
        "id": "kSGcIFhymWmH",
        "colab": {
          "base_uri": "https://localhost:8080/",
          "height": 311
        },
        "outputId": "83b9c56f-b3ff-4034-ee4a-2f7d730d1a38"
      },
      "source": [
        "ax = faixa_idade_percent.plot.bar()\n",
        "ax.set_ylabel('Casos (%)')\n",
        "ax.set_xlabel('Faixa etária (anos)');"
      ],
      "execution_count": 67,
      "outputs": [
        {
          "output_type": "display_data",
          "data": {
            "image/png": "[encoded data removed]",
            "text/plain": [
              "<Figure size 432x288 with 1 Axes>"
            ]
          },
          "metadata": {
            "needs_background": "light"
          }
        }
      ]
    },
    {
      "cell_type": "markdown",
      "metadata": {
        "id": "9AGc656imWmH"
      },
      "source": [
        "###### 6. Elabore um gráfico que mostra o cumulativo de casos notificados ao longo do tempo;"
      ]
    },
    {
      "cell_type": "code",
      "metadata": {
        "id": "vGpBs_5-mWmI",
        "colab": {
          "base_uri": "https://localhost:8080/"
        },
        "outputId": "9a31ed87-7125-493e-a0f3-bc1f67be09b7"
      },
      "source": [
        "dias = (pd.to_datetime(data['_dt_notificacao'], format='%d/%m/%Y %H:%M').dt.floor('d').value_counts(sort=False))\n",
        "dias.sort_index(inplace=True)\n",
        "dias"
      ],
      "execution_count": 68,
      "outputs": [
        {
          "output_type": "execute_result",
          "data": {
            "text/plain": [
              "2020-02-16    2\n",
              "2020-02-23    1\n",
              "2020-02-28    1\n",
              "2020-03-02    2\n",
              "2020-03-09    1\n",
              "             ..\n",
              "2020-12-25    3\n",
              "2020-12-26    1\n",
              "2020-12-27    3\n",
              "2020-12-28    1\n",
              "2020-12-29    3\n",
              "Name: _dt_notificacao, Length: 295, dtype: int64"
            ]
          },
          "metadata": {},
          "execution_count": 68
        }
      ]
    },
    {
      "cell_type": "code",
      "metadata": {
        "id": "AbfK8Jt2mWmI",
        "colab": {
          "base_uri": "https://localhost:8080/"
        },
        "outputId": "4e4cef72-2b69-4fda-8052-603833b064f6"
      },
      "source": [
        "acc = dias.cumsum()\n",
        "acc"
      ],
      "execution_count": 69,
      "outputs": [
        {
          "output_type": "execute_result",
          "data": {
            "text/plain": [
              "2020-02-16        2\n",
              "2020-02-23        3\n",
              "2020-02-28        4\n",
              "2020-03-02        6\n",
              "2020-03-09        7\n",
              "              ...  \n",
              "2020-12-25    41667\n",
              "2020-12-26    41668\n",
              "2020-12-27    41671\n",
              "2020-12-28    41672\n",
              "2020-12-29    41675\n",
              "Name: _dt_notificacao, Length: 295, dtype: int64"
            ]
          },
          "metadata": {},
          "execution_count": 69
        }
      ]
    },
    {
      "cell_type": "code",
      "metadata": {
        "id": "ab2UWvetmWmJ",
        "colab": {
          "base_uri": "https://localhost:8080/",
          "height": 277
        },
        "outputId": "589a4847-4106-4d57-e3fd-a2f2322d402b"
      },
      "source": [
        "ax = acc.plot.line()\n",
        "ax.set_ylabel('Casos')\n",
        "ax.set_xlabel('Data de Notificação');"
      ],
      "execution_count": 70,
      "outputs": [
        {
          "output_type": "display_data",
          "data": {
            "image/png": "[encoded data removed]",
            "text/plain": [
              "<Figure size 432x288 with 1 Axes>"
            ]
          },
          "metadata": {
            "needs_background": "light"
          }
        }
      ]
    },
    {
      "cell_type": "markdown",
      "metadata": {
        "id": "t6-Bc8mcmWmJ"
      },
      "source": [
        "###### 7. Faça um gráfico do tipo scatterplot que denote a idade versus o número total de casos registrado para aquela idade. Aproveite o processamento efetuado para o cálculo da correlação. É possível observar alguma tendência?"
      ]
    },
    {
      "cell_type": "code",
      "metadata": {
        "id": "V7TALTCtmWmK",
        "colab": {
          "base_uri": "https://localhost:8080/",
          "height": 417
        },
        "outputId": "f26a4f07-8a1f-4ac6-f98d-ae47f18996cc"
      },
      "source": [
        "n_casos_por_idade = pd.DataFrame(data.groupby('_idade').size(), columns = ['numero_de_casos']).reset_index(level=0)\n",
        "n_casos_por_idade"
      ],
      "execution_count": 71,
      "outputs": [
        {
          "output_type": "execute_result",
          "data": {
            "text/html": [
              "<div>\n",
              "<style scoped>\n",
              "    .dataframe tbody tr th:only-of-type {\n",
              "        vertical-align: middle;\n",
              "    }\n",
              "\n",
              "    .dataframe tbody tr th {\n",
              "        vertical-align: top;\n",
              "    }\n",
              "\n",
              "    .dataframe thead th {\n",
              "        text-align: right;\n",
              "    }\n",
              "</style>\n",
              "<table border=\"1\" class=\"dataframe\">\n",
              "  <thead>\n",
              "    <tr style=\"text-align: right;\">\n",
              "      <th></th>\n",
              "      <th>_idade</th>\n",
              "      <th>numero_de_casos</th>\n",
              "    </tr>\n",
              "  </thead>\n",
              "  <tbody>\n",
              "    <tr>\n",
              "      <th>0</th>\n",
              "      <td>0.0</td>\n",
              "      <td>340</td>\n",
              "    </tr>\n",
              "    <tr>\n",
              "      <th>1</th>\n",
              "      <td>1.0</td>\n",
              "      <td>171</td>\n",
              "    </tr>\n",
              "    <tr>\n",
              "      <th>2</th>\n",
              "      <td>2.0</td>\n",
              "      <td>110</td>\n",
              "    </tr>\n",
              "    <tr>\n",
              "      <th>3</th>\n",
              "      <td>3.0</td>\n",
              "      <td>88</td>\n",
              "    </tr>\n",
              "    <tr>\n",
              "      <th>4</th>\n",
              "      <td>4.0</td>\n",
              "      <td>84</td>\n",
              "    </tr>\n",
              "    <tr>\n",
              "      <th>...</th>\n",
              "      <td>...</td>\n",
              "      <td>...</td>\n",
              "    </tr>\n",
              "    <tr>\n",
              "      <th>102</th>\n",
              "      <td>102.0</td>\n",
              "      <td>2</td>\n",
              "    </tr>\n",
              "    <tr>\n",
              "      <th>103</th>\n",
              "      <td>104.0</td>\n",
              "      <td>2</td>\n",
              "    </tr>\n",
              "    <tr>\n",
              "      <th>104</th>\n",
              "      <td>106.0</td>\n",
              "      <td>2</td>\n",
              "    </tr>\n",
              "    <tr>\n",
              "      <th>105</th>\n",
              "      <td>119.0</td>\n",
              "      <td>1</td>\n",
              "    </tr>\n",
              "    <tr>\n",
              "      <th>106</th>\n",
              "      <td>120.0</td>\n",
              "      <td>1</td>\n",
              "    </tr>\n",
              "  </tbody>\n",
              "</table>\n",
              "<p>107 rows × 2 columns</p>\n",
              "</div>"
            ],
            "text/plain": [
              "     _idade  numero_de_casos\n",
              "0       0.0              340\n",
              "1       1.0              171\n",
              "2       2.0              110\n",
              "3       3.0               88\n",
              "4       4.0               84\n",
              "..      ...              ...\n",
              "102   102.0                2\n",
              "103   104.0                2\n",
              "104   106.0                2\n",
              "105   119.0                1\n",
              "106   120.0                1\n",
              "\n",
              "[107 rows x 2 columns]"
            ]
          },
          "metadata": {},
          "execution_count": 71
        }
      ]
    },
    {
      "cell_type": "code",
      "metadata": {
        "ExecuteTime": {
          "end_time": "2017-03-19T23:23:36.914375Z",
          "start_time": "2017-03-19T19:23:36.661322-04:00"
        },
        "id": "7Nh680aPmWmK",
        "colab": {
          "base_uri": "https://localhost:8080/",
          "height": 295
        },
        "outputId": "8044f85f-c3c8-48f3-9cd2-07ce34185c12"
      },
      "source": [
        "ax = plt.axes()\n",
        "ax.scatter(n_casos_por_idade._idade, n_casos_por_idade.numero_de_casos)\n",
        "\n",
        "ax.set(xlabel='Idade (anos)',\n",
        "       ylabel='Número de casos',\n",
        "       title='Idade vs Casos');"
      ],
      "execution_count": 72,
      "outputs": [
        {
          "output_type": "display_data",
          "data": {
            "image/png": "[encoded data removed]",
            "text/plain": [
              "<Figure size 432x288 with 1 Axes>"
            ]
          },
          "metadata": {
            "needs_background": "light"
          }
        }
      ]
    },
    {
      "cell_type": "markdown",
      "metadata": {
        "id": "HpCfUoSomWmK"
      },
      "source": [
        ""
      ]
    },
    {
      "cell_type": "markdown",
      "metadata": {
        "id": "1YLLdw_lmWmL"
      },
      "source": [
        "# 2.3 Tipos de Tarefas"
      ]
    },
    {
      "cell_type": "markdown",
      "metadata": {
        "id": "YY861WTtmWmL"
      },
      "source": [
        "###### 1. Uma tarefa de classificação mediante Aprendizado Supervisionado que poderia ser feita com esta base de dados. Qual seria o atributo-alvo? Quais métricas de desempenho poderiam ser aplicadas? Que tipo de validação seria apropriado?"
      ]
    },
    {
      "cell_type": "markdown",
      "metadata": {
        "id": "QAGQXnCE4Jzh"
      },
      "source": [
        "Inferir conclusao (multiclasse - Recuperado, óbito, ou óbito por outras) a partir da faixa etária, sexo, evolução e testes, usando a métrica acurácia, e validação cruzada."
      ]
    },
    {
      "cell_type": "markdown",
      "metadata": {
        "id": "ndXuvrtRmWmO"
      },
      "source": [
        "###### 2. Uma tarefa de regressão mediante Aprendizado Supervisionado que poderia ser feita com esta base de dados. Qual seria o atributo-alvo? Quais atributos preditores a equipe considera relevantes para o cenário?"
      ]
    },
    {
      "cell_type": "markdown",
      "metadata": {
        "id": "xW-jSJ52HjWt"
      },
      "source": [
        "Prever valor taxa pelas colunas, usando a métrica RMSE e validação cruzada."
      ]
    },
    {
      "cell_type": "code",
      "metadata": {
        "id": "i9BsDn89mWmN"
      },
      "source": [
        "import seaborn as sns\n",
        "\n",
        "sns.set_context('notebook')"
      ],
      "execution_count": 74,
      "outputs": []
    },
    {
      "cell_type": "code",
      "metadata": {
        "id": "yhQkvXjlmWmN",
        "colab": {
          "base_uri": "https://localhost:8080/",
          "height": 1000
        },
        "outputId": "0d085c7a-3918-4356-c017-6a37a67a4e00"
      },
      "source": [
        "data_pair = data[['_conclusao','_dt_notificacao', '_idade', '_taxa', '_sexo']]\n",
        "data_pair['_sexo'] = pd.to_numeric(data_pair['_sexo'].str.replace('F', '0').replace('M', '1'), errors='coerce')\n",
        "data_pair['_taxa'] = pd.to_numeric(data_pair['_taxa'].str.replace(',', '.'), errors='coerce')\n",
        "data_pair['_dt_notificacao'] = pd.to_datetime(data_pair['_dt_notificacao'], format='%d/%m/%Y %H:%M')\n",
        "seaborn_axisgrid_PairGrid = sns.pairplot(data_pair, hue='_conclusao',vars=['_dt_notificacao', '_idade', '_sexo', '_taxa'])"
      ],
      "execution_count": 75,
      "outputs": [
        {
          "output_type": "stream",
          "name": "stderr",
          "text": [
            "/usr/local/lib/python3.7/dist-packages/ipykernel_launcher.py:2: SettingWithCopyWarning: \n",
            "A value is trying to be set on a copy of a slice from a DataFrame.\n",
            "Try using .loc[row_indexer,col_indexer] = value instead\n",
            "\n",
            "See the caveats in the documentation: https://pandas.pydata.org/pandas-docs/stable/user_guide/indexing.html#returning-a-view-versus-a-copy\n",
            "  \n",
            "/usr/local/lib/python3.7/dist-packages/ipykernel_launcher.py:3: SettingWithCopyWarning: \n",
            "A value is trying to be set on a copy of a slice from a DataFrame.\n",
            "Try using .loc[row_indexer,col_indexer] = value instead\n",
            "\n",
            "See the caveats in the documentation: https://pandas.pydata.org/pandas-docs/stable/user_guide/indexing.html#returning-a-view-versus-a-copy\n",
            "  This is separate from the ipykernel package so we can avoid doing imports until\n",
            "/usr/local/lib/python3.7/dist-packages/ipykernel_launcher.py:4: SettingWithCopyWarning: \n",
            "A value is trying to be set on a copy of a slice from a DataFrame.\n",
            "Try using .loc[row_indexer,col_indexer] = value instead\n",
            "\n",
            "See the caveats in the documentation: https://pandas.pydata.org/pandas-docs/stable/user_guide/indexing.html#returning-a-view-versus-a-copy\n",
            "  after removing the cwd from sys.path.\n"
          ]
        },
        {
          "output_type": "display_data",
          "data": {
            "image/png": "[encoded data removed]",
            "text/plain": [
              "<Figure size 891.475x720 with 20 Axes>"
            ]
          },
          "metadata": {
            "needs_background": "light"
          }
        }
      ]
    },
    {
      "cell_type": "code",
      "metadata": {
        "id": "1jGobIA83bxG"
      },
      "source": [
        "#!jupyter nbconvert --to html RNA_AA1.2.ipynb"
      ],
      "execution_count": 77,
      "outputs": []
    }
  ]
}